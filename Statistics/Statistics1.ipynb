{
  "nbformat": 4,
  "nbformat_minor": 0,
  "metadata": {
    "colab": {
      "name": "Statistics1.ipynb",
      "provenance": [],
      "collapsed_sections": []
    },
    "kernelspec": {
      "name": "python3",
      "display_name": "Python 3"
    },
    "language_info": {
      "name": "python"
    }
  },
  "cells": [
    {
      "cell_type": "code",
      "execution_count": 1,
      "metadata": {
        "id": "Lt2omoAJOUlv"
      },
      "outputs": [],
      "source": [
        "import numpy"
      ]
    },
    {
      "cell_type": "code",
      "source": [
        "#Mean - The average value\n",
        "\n",
        "speed = [99,86,87,88,111,86,103,87,94,78,77,85,86]\n",
        "x = numpy.mean(speed)\n",
        "\n",
        "print(x)"
      ],
      "metadata": {
        "colab": {
          "base_uri": "https://localhost:8080/"
        },
        "id": "dju0H9WQObKr",
        "outputId": "cd52c414-82ac-4c24-caa5-fe0e09cbb106"
      },
      "execution_count": 2,
      "outputs": [
        {
          "output_type": "stream",
          "name": "stdout",
          "text": [
            "89.76923076923077\n"
          ]
        }
      ]
    },
    {
      "cell_type": "code",
      "source": [
        "#Median - The mid point value\n",
        "\n",
        "speed = [99,86,87,88,111,86,103,87,94,78,77,85,86]\n",
        "x = numpy.median(speed)\n",
        "\n",
        "print(x)"
      ],
      "metadata": {
        "colab": {
          "base_uri": "https://localhost:8080/"
        },
        "id": "WPGuDAyeOfWb",
        "outputId": "72e07c27-60d0-4e11-e63f-ed9d796eb74e"
      },
      "execution_count": 3,
      "outputs": [
        {
          "output_type": "stream",
          "name": "stdout",
          "text": [
            "87.0\n"
          ]
        }
      ]
    },
    {
      "cell_type": "code",
      "source": [
        "#Mode - The most common value\n",
        "\n",
        "from scipy import stats\n",
        "speed = [99,86,87,88,111,86,103,87,94,78,77,85,86]\n",
        "\n",
        "x = stats.mode(speed)\n",
        "\n",
        "print(x)"
      ],
      "metadata": {
        "colab": {
          "base_uri": "https://localhost:8080/"
        },
        "id": "2af6F0CgO5Jf",
        "outputId": "74a5355f-b242-4421-d994-eb62b7547267"
      },
      "execution_count": 4,
      "outputs": [
        {
          "output_type": "stream",
          "name": "stdout",
          "text": [
            "ModeResult(mode=array([86]), count=array([3]))\n"
          ]
        }
      ]
    },
    {
      "cell_type": "code",
      "source": [
        "#Standard deviation is a number that describes how spread out the values are.\n",
        "#A low standard deviation means that most of the numbers are close to the mean (average) value.\n",
        "#A high standard deviation means that the values are spread out over a wider range. \n",
        "#Standard Deviation is often represented by the symbol Sigma: σ\n",
        "\n",
        "speed = [86,87,88,86,87,85,86]\n",
        "x = numpy.std(speed)\n",
        "\n",
        "print(x)"
      ],
      "metadata": {
        "colab": {
          "base_uri": "https://localhost:8080/"
        },
        "id": "kRZbueNyPEtD",
        "outputId": "3572b4b6-2719-43ac-86f9-bca4e40211a0"
      },
      "execution_count": 5,
      "outputs": [
        {
          "output_type": "stream",
          "name": "stdout",
          "text": [
            "0.9035079029052513\n"
          ]
        }
      ]
    },
    {
      "cell_type": "code",
      "source": [
        "# Variance indicates how spread out the values are. In fact, if you take the square root of the variance, you get the standard deviation!\n",
        "# Or the other way around, if you multiply the standard deviation by itself, you get the variance!\n",
        "# Variance is often represented by the symbol Sigma Square: σ2\n",
        "\n",
        "#To calculate the variance you have to do as follows:-\n",
        "\n",
        "# 1. Find the mean\n",
        "# 2. For each value: find the difference from the mean\n",
        "# 3. For each difference: find the square value\n",
        "# 4. The variance is the average number of these squared differences\n",
        "\n",
        "speed = [32,111,138,28,59,77,97]\n",
        "x = numpy.var(speed)\n",
        "\n",
        "print(x)\n"
      ],
      "metadata": {
        "colab": {
          "base_uri": "https://localhost:8080/"
        },
        "id": "2P6A_jEwQPkm",
        "outputId": "d3c59bc2-ea8f-4825-f911-a9d6590e4ace"
      },
      "execution_count": 6,
      "outputs": [
        {
          "output_type": "stream",
          "name": "stdout",
          "text": [
            "1432.2448979591834\n"
          ]
        }
      ]
    },
    {
      "cell_type": "code",
      "source": [
        "#Percentiles are used in statistics to give you a number that describes the value that a given percent of the values are lower than.\n",
        "\n",
        "ages = [5,31,43,48,50,41,7,11,15,39,80,82,32,2,8,6,25,36,27,61,31]\n",
        "x = numpy.percentile(ages, 75)\n",
        "\n",
        "print(x)"
      ],
      "metadata": {
        "colab": {
          "base_uri": "https://localhost:8080/"
        },
        "id": "Z7vUyNGVQ34X",
        "outputId": "70be63e4-f6eb-489a-e7b9-14e51f8d4ece"
      },
      "execution_count": 7,
      "outputs": [
        {
          "output_type": "stream",
          "name": "stdout",
          "text": [
            "43.0\n"
          ]
        }
      ]
    },
    {
      "cell_type": "code",
      "source": [
        "#Create an array containing 250 random floats between 0 and 5\n",
        "\n",
        "x = numpy.random.uniform(0.0, 5.0, 250)\n",
        "print(x)"
      ],
      "metadata": {
        "colab": {
          "base_uri": "https://localhost:8080/"
        },
        "id": "Gq6cGLsqR0Lh",
        "outputId": "34dd61d6-c353-408b-d9f5-e41056e39e58"
      },
      "execution_count": 8,
      "outputs": [
        {
          "output_type": "stream",
          "name": "stdout",
          "text": [
            "[3.01100534e+00 6.89256908e-01 4.76012273e+00 2.30189632e+00\n",
            " 5.60969971e-01 2.34105318e+00 6.82150008e-01 1.51369691e+00\n",
            " 8.61508175e-02 5.65334408e-02 1.60494464e+00 4.07886119e+00\n",
            " 1.46769290e+00 3.24698154e+00 4.84797845e+00 4.71626917e-01\n",
            " 4.45217282e+00 3.84870442e+00 3.05199205e+00 4.16776998e+00\n",
            " 3.86674801e+00 4.26144025e+00 4.95983703e+00 1.20747672e+00\n",
            " 4.27904492e+00 1.38673946e+00 1.16961532e+00 4.08602609e+00\n",
            " 1.59277842e+00 1.08367315e+00 2.76416942e+00 2.24576924e+00\n",
            " 4.46954747e+00 3.94611401e+00 4.63769382e+00 4.74948705e+00\n",
            " 2.27788181e+00 2.34681623e+00 3.81115179e+00 1.75191094e+00\n",
            " 3.40624325e+00 3.58553640e+00 3.60932202e+00 2.15343225e+00\n",
            " 3.53682000e+00 5.53781249e-01 4.25637413e+00 2.24620393e+00\n",
            " 4.90123937e+00 3.14684943e+00 4.77756583e+00 2.05418075e+00\n",
            " 8.87768221e-03 4.15571649e+00 1.31521312e+00 2.78466053e+00\n",
            " 5.80302104e-01 4.03682647e+00 2.03865342e+00 3.17949087e+00\n",
            " 2.30078262e+00 1.65986921e+00 3.78795512e+00 3.13498563e+00\n",
            " 1.26540012e+00 9.44262421e-01 1.03485473e+00 2.37005281e+00\n",
            " 3.34884039e+00 7.59325940e-01 2.65741783e-02 3.65615676e+00\n",
            " 1.28829356e+00 3.26939102e+00 4.65774950e+00 2.75406482e+00\n",
            " 2.28234978e+00 1.44730029e+00 4.82156890e+00 7.89892321e-01\n",
            " 3.34314224e+00 3.76654702e+00 4.74527778e+00 4.45773765e+00\n",
            " 4.32835092e+00 2.70388140e+00 1.18233202e+00 4.72657166e+00\n",
            " 4.36028585e+00 9.23099476e-01 1.93099626e+00 2.39301110e-03\n",
            " 3.55393284e+00 1.67598908e+00 1.33735103e+00 3.61221479e+00\n",
            " 4.15940345e+00 9.84356123e-01 2.71034620e+00 2.64958188e+00\n",
            " 3.57759001e+00 4.30718362e+00 5.62330898e-01 1.10689064e+00\n",
            " 4.41207110e+00 3.69922130e+00 1.04971766e-01 1.30229094e-01\n",
            " 3.59631971e+00 2.79649297e+00 2.20848028e+00 3.08299452e+00\n",
            " 4.21886397e+00 4.22038061e+00 4.43826587e+00 3.70838933e+00\n",
            " 4.13649352e+00 4.26756690e+00 3.06522799e+00 1.42278622e+00\n",
            " 6.17348164e-01 8.84781614e-01 4.41268834e-01 5.86662180e-01\n",
            " 2.15187720e+00 1.14572048e+00 2.30677333e+00 4.69129223e+00\n",
            " 1.37280234e+00 2.55332120e+00 2.47868750e+00 3.41892182e-01\n",
            " 4.40553791e+00 1.98559599e+00 4.37364403e+00 4.07309692e+00\n",
            " 3.93230569e+00 2.14629719e+00 4.14433541e+00 2.33683301e+00\n",
            " 4.26426427e+00 2.90046355e-02 3.34355425e+00 2.20988443e+00\n",
            " 4.35901143e-01 4.98276177e+00 3.42493253e+00 3.01082866e+00\n",
            " 3.83382079e+00 1.77534367e+00 3.98614084e+00 5.93934773e-02\n",
            " 3.61370061e+00 4.53337611e+00 2.16647210e+00 1.58426473e+00\n",
            " 6.81072663e-01 8.38647012e-01 4.84730838e+00 4.04276256e+00\n",
            " 4.17067872e+00 8.27530442e-02 4.69112261e+00 2.61852000e+00\n",
            " 3.89961840e+00 3.83697914e+00 1.74955137e+00 4.33490018e+00\n",
            " 3.83315774e+00 4.03412091e+00 1.08306659e+00 4.20355797e+00\n",
            " 4.78131945e+00 4.93973765e-01 3.93071154e+00 1.48041104e+00\n",
            " 7.86506035e-01 3.13601090e+00 3.07939686e+00 4.24334558e+00\n",
            " 2.34520398e-01 5.26080887e-01 6.36521952e-01 7.83682793e-01\n",
            " 2.40281622e+00 1.02622421e+00 3.95335181e+00 4.78280382e+00\n",
            " 2.04578757e+00 2.41789531e+00 1.08007560e+00 1.87965286e+00\n",
            " 1.69148514e+00 1.66705948e+00 2.77644177e+00 2.66724832e+00\n",
            " 1.84443352e+00 2.25576624e+00 1.53165589e-01 5.83970285e-01\n",
            " 2.04954743e+00 2.71887028e+00 9.88141343e-01 3.73438296e-01\n",
            " 4.07657550e+00 1.41318426e-01 2.90701258e+00 3.49000800e+00\n",
            " 2.57770227e-01 3.74816130e+00 4.93734903e+00 1.34923844e-01\n",
            " 2.99763145e+00 3.47075473e+00 3.45642031e+00 1.57117873e+00\n",
            " 2.55928729e+00 1.79549577e+00 3.18826971e+00 5.73117044e-01\n",
            " 2.36533525e+00 4.98141245e+00 2.56093164e+00 2.38045209e+00\n",
            " 3.97203597e+00 1.89544798e+00 3.28271393e+00 3.21951619e+00\n",
            " 4.48816236e+00 3.51085362e+00 3.72114845e+00 5.63991128e-01\n",
            " 4.02813868e+00 3.94099234e+00 3.89646952e-01 4.56023101e+00\n",
            " 3.86506441e+00 2.30202651e+00 3.02330648e+00 3.17376362e-02\n",
            " 2.07151411e+00 1.15563064e+00 1.94468877e+00 4.44844341e+00\n",
            " 4.03470202e-01 3.34213406e+00 2.10064511e+00 1.99716734e+00\n",
            " 4.51169186e+00 2.25902359e+00]\n"
          ]
        }
      ]
    },
    {
      "cell_type": "code",
      "source": [
        "#To visualize the data set we can draw a histogram with the data we collected.\n",
        "\n",
        "import matplotlib.pyplot as plt\n",
        "\n",
        "x = numpy.random.uniform(0.0, 5.0, 250)\n",
        "\n",
        "plt.hist(x, 5)\n",
        "plt.show()"
      ],
      "metadata": {
        "colab": {
          "base_uri": "https://localhost:8080/",
          "height": 265
        },
        "id": "ESGdbNJwSKnf",
        "outputId": "86caba5c-e838-48c7-b6ab-bc292c3db371"
      },
      "execution_count": 9,
      "outputs": [
        {
          "output_type": "display_data",
          "data": {
            "image/png": "[encoded data removed]",
            "text/plain": [
              "<Figure size 432x288 with 1 Axes>"
            ]
          },
          "metadata": {
            "needs_background": "light"
          }
        }
      ]
    },
    {
      "cell_type": "code",
      "source": [
        "#Normal Data Distribution - an array where the values are concentrated around a given value.\n",
        "#In probability theory this kind of data distribution is known as the normal data distribution, or the Gaussian data distribution, after the mathematician Carl Friedrich Gauss who came up with the formula of this data distribution.\n",
        "\n",
        "import matplotlib.pyplot as plt\n",
        "\n",
        "x = numpy.random.normal(5.0, 1.0, 100000)\n",
        "\n",
        "plt.hist(x, 100)\n",
        "plt.show()\n",
        "\n",
        "#Note: A normal distribution graph is also known as the bell curve because of it's characteristic shape of a bell.\n"
      ],
      "metadata": {
        "colab": {
          "base_uri": "https://localhost:8080/",
          "height": 267
        },
        "id": "E9rxbQ9-ToTZ",
        "outputId": "3f86bd80-7374-4d4d-8c5e-0c64e09bfbae"
      },
      "execution_count": 10,
      "outputs": [
        {
          "output_type": "display_data",
          "data": {
            "image/png": "[encoded data removed]",
            "text/plain": [
              "<Figure size 432x288 with 1 Axes>"
            ]
          },
          "metadata": {
            "needs_background": "light"
          }
        }
      ]
    },
    {
      "cell_type": "code",
      "source": [
        "#Scatter Plot - A scatter plot is a diagram where each value in the data set is represented by a dot.\n",
        "#The Matplotlib module has a method for drawing scatter plots, it needs two arrays of the same length, one for the values of the x-axis, and one for the values of the y-axis\n",
        "\n",
        "import matplotlib.pyplot as plt\n",
        "\n",
        "x = [5,7,8,7,2,17,2,9,4,11,12,9,6]\n",
        "y = [99,86,87,88,111,86,103,87,94,78,77,85,86]\n",
        "\n",
        "plt.scatter(x, y)\n",
        "plt.show()"
      ],
      "metadata": {
        "colab": {
          "base_uri": "https://localhost:8080/",
          "height": 265
        },
        "id": "vIRinvVuU2Yg",
        "outputId": "a8ba7602-fae8-4f34-f25c-911d4fda76a3"
      },
      "execution_count": 11,
      "outputs": [
        {
          "output_type": "display_data",
          "data": {
            "image/png": "[encoded data removed]",
            "text/plain": [
              "<Figure size 432x288 with 1 Axes>"
            ]
          },
          "metadata": {
            "needs_background": "light"
          }
        }
      ]
    },
    {
      "cell_type": "code",
      "source": [
        "#A scatter plot with 1000 dots\n",
        "\n",
        "import matplotlib.pyplot as plt\n",
        "\n",
        "x = numpy.random.normal(5.0, 1.0, 1000)\n",
        "y = numpy.random.normal(10.0, 2.0, 1000)\n",
        "\n",
        "plt.scatter(x, y)\n",
        "plt.show()"
      ],
      "metadata": {
        "colab": {
          "base_uri": "https://localhost:8080/",
          "height": 265
        },
        "id": "ikygyCSxVHy6",
        "outputId": "140cf677-9ade-4a59-dd7c-77502de5e948"
      },
      "execution_count": 12,
      "outputs": [
        {
          "output_type": "display_data",
          "data": {
            "image/png": "[encoded data removed]",
            "text/plain": [
              "<Figure size 432x288 with 1 Axes>"
            ]
          },
          "metadata": {
            "needs_background": "light"
          }
        }
      ]
    }
  ]
}