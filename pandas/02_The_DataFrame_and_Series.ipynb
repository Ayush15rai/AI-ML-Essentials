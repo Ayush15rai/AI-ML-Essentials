{
  "cells": [
    {
      "cell_type": "markdown",
      "metadata": {
        "id": "f_EDZHPpNcGX"
      },
      "source": [
        "# The DataFrame and Series\n",
        "\n",
        "The DataFrame and Series are the two primary pandas objects that we will be using throughout this book.\n",
        "\n",
        "* **DataFrame** - A two-dimensional data structure that looks like any other rectangular table of data you have seen with rows and columns.\n",
        "* **Series** - A single dimension of data. It is analogous to a single column of data or a one dimensional array.\n",
        "\n",
        "## Import pandas and read in data with `read_csv`\n",
        "\n",
        "By convention, pandas is imported and aliased as `pd`. We will read in the `bikes` dataset with the `read_csv` function. Its first parameter is the location of the file relative to the current directory as a string. All of the data for this book is stored in the `data` directory one level above where this notebook is located. The two dots in the path passed to `read_csv` are interpreted as the directory immediately above the current one.\n",
        "\n",
        "[1]: images/pandas_logo.png\n",
        "[2]: http://stackoverflow.com/questions/tagged/pandas\n",
        "[3]: https://www.youtube.com/watch?v=kHdkFyGCxiY\n",
        "[4]: http://www.numpy.org/"
      ]
    },
    {
      "cell_type": "code",
      "execution_count": 2,
      "metadata": {
        "id": "vDd-o6lfNcGe"
      },
      "outputs": [],
      "source": [
        "import pandas as pd\n",
        "bikes = pd.read_csv('bikes.csv')"
      ]
    },
    {
      "cell_type": "markdown",
      "metadata": {
        "id": "OfxIp7b_NcGg"
      },
      "source": [
        "### Display DataFrame in Jupyter Notebook\n",
        "We assigned the output from the `read_csv` function to the `bikes` variable which now refers to our DataFrame object. To visually display the DataFrame, place the variable name as the last line in a code cell. By default, pandas outputs 60 rows and 20 columns. \n",
        "\n",
        "### `head` and `tail` methods\n",
        "A very useful and simple method is `head`, which returns the first 5 rows of the DataFrame by default. This avoids long default output and is something I highly recommend when doing data analysis within a notebook. The `tail` method returns the last 5 rows by default. There will be very few instances in the book where the `head` method is not used as displaying 60 rows is far too many and will take up a lot of space on a screen or page."
      ]
    },
    {
      "cell_type": "code",
      "execution_count": 3,
      "metadata": {
        "colab": {
          "base_uri": "https://localhost:8080/",
          "height": 444
        },
        "id": "vcAv88RtNcGh",
        "outputId": "6f246c78-d546-43b8-db21-034a6a2a388c"
      },
      "outputs": [
        {
          "output_type": "execute_result",
          "data": {
            "text/html": [
              "\n",
              "  <div id=\"df-52e3b33f-514d-494c-8318-3f866131bdcc\">\n",
              "    <div class=\"colab-df-container\">\n",
              "      <div>\n",
              "<style scoped>\n",
              "    .dataframe tbody tr th:only-of-type {\n",
              "        vertical-align: middle;\n",
              "    }\n",
              "\n",
              "    .dataframe tbody tr th {\n",
              "        vertical-align: top;\n",
              "    }\n",
              "\n",
              "    .dataframe thead th {\n",
              "        text-align: right;\n",
              "    }\n",
              "</style>\n",
              "<table border=\"1\" class=\"dataframe\">\n",
              "  <thead>\n",
              "    <tr style=\"text-align: right;\">\n",
              "      <th></th>\n",
              "      <th>trip_id</th>\n",
              "      <th>usertype</th>\n",
              "      <th>gender</th>\n",
              "      <th>starttime</th>\n",
              "      <th>stoptime</th>\n",
              "      <th>tripduration</th>\n",
              "      <th>from_station_name</th>\n",
              "      <th>latitude_start</th>\n",
              "      <th>longitude_start</th>\n",
              "      <th>dpcapacity_start</th>\n",
              "      <th>to_station_name</th>\n",
              "      <th>latitude_end</th>\n",
              "      <th>longitude_end</th>\n",
              "      <th>dpcapacity_end</th>\n",
              "      <th>temperature</th>\n",
              "      <th>visibility</th>\n",
              "      <th>wind_speed</th>\n",
              "      <th>precipitation</th>\n",
              "      <th>events</th>\n",
              "    </tr>\n",
              "  </thead>\n",
              "  <tbody>\n",
              "    <tr>\n",
              "      <th>0</th>\n",
              "      <td>7147</td>\n",
              "      <td>Subscriber</td>\n",
              "      <td>Male</td>\n",
              "      <td>2013-06-28 19:01:00</td>\n",
              "      <td>2013-06-28 19:17:00</td>\n",
              "      <td>993</td>\n",
              "      <td>Lake Shore Dr &amp; Monroe St</td>\n",
              "      <td>41.881050</td>\n",
              "      <td>-87.616970</td>\n",
              "      <td>11.0</td>\n",
              "      <td>Michigan Ave &amp; Oak St</td>\n",
              "      <td>41.900960</td>\n",
              "      <td>-87.623777</td>\n",
              "      <td>15.0</td>\n",
              "      <td>73.9</td>\n",
              "      <td>10.0</td>\n",
              "      <td>12.7</td>\n",
              "      <td>-9999.0</td>\n",
              "      <td>mostlycloudy</td>\n",
              "    </tr>\n",
              "    <tr>\n",
              "      <th>1</th>\n",
              "      <td>7524</td>\n",
              "      <td>Subscriber</td>\n",
              "      <td>Male</td>\n",
              "      <td>2013-06-28 22:53:00</td>\n",
              "      <td>2013-06-28 23:03:00</td>\n",
              "      <td>623</td>\n",
              "      <td>Clinton St &amp; Washington Blvd</td>\n",
              "      <td>41.883380</td>\n",
              "      <td>-87.641170</td>\n",
              "      <td>31.0</td>\n",
              "      <td>Wells St &amp; Walton St</td>\n",
              "      <td>41.899930</td>\n",
              "      <td>-87.634430</td>\n",
              "      <td>19.0</td>\n",
              "      <td>69.1</td>\n",
              "      <td>10.0</td>\n",
              "      <td>6.9</td>\n",
              "      <td>-9999.0</td>\n",
              "      <td>partlycloudy</td>\n",
              "    </tr>\n",
              "    <tr>\n",
              "      <th>2</th>\n",
              "      <td>10927</td>\n",
              "      <td>Subscriber</td>\n",
              "      <td>Male</td>\n",
              "      <td>2013-06-30 14:43:00</td>\n",
              "      <td>2013-06-30 15:01:00</td>\n",
              "      <td>1040</td>\n",
              "      <td>Sheffield Ave &amp; Kingsbury St</td>\n",
              "      <td>41.909592</td>\n",
              "      <td>-87.653497</td>\n",
              "      <td>15.0</td>\n",
              "      <td>Dearborn St &amp; Monroe St</td>\n",
              "      <td>41.881320</td>\n",
              "      <td>-87.629521</td>\n",
              "      <td>23.0</td>\n",
              "      <td>73.0</td>\n",
              "      <td>10.0</td>\n",
              "      <td>16.1</td>\n",
              "      <td>-9999.0</td>\n",
              "      <td>mostlycloudy</td>\n",
              "    </tr>\n",
              "    <tr>\n",
              "      <th>3</th>\n",
              "      <td>12907</td>\n",
              "      <td>Subscriber</td>\n",
              "      <td>Male</td>\n",
              "      <td>2013-07-01 10:05:00</td>\n",
              "      <td>2013-07-01 10:16:00</td>\n",
              "      <td>667</td>\n",
              "      <td>Carpenter St &amp; Huron St</td>\n",
              "      <td>41.894556</td>\n",
              "      <td>-87.653449</td>\n",
              "      <td>19.0</td>\n",
              "      <td>Clark St &amp; Randolph St</td>\n",
              "      <td>41.884576</td>\n",
              "      <td>-87.631890</td>\n",
              "      <td>31.0</td>\n",
              "      <td>72.0</td>\n",
              "      <td>10.0</td>\n",
              "      <td>16.1</td>\n",
              "      <td>-9999.0</td>\n",
              "      <td>mostlycloudy</td>\n",
              "    </tr>\n",
              "    <tr>\n",
              "      <th>4</th>\n",
              "      <td>13168</td>\n",
              "      <td>Subscriber</td>\n",
              "      <td>Male</td>\n",
              "      <td>2013-07-01 11:16:00</td>\n",
              "      <td>2013-07-01 11:18:00</td>\n",
              "      <td>130</td>\n",
              "      <td>Damen Ave &amp; Pierce Ave</td>\n",
              "      <td>41.909396</td>\n",
              "      <td>-87.677692</td>\n",
              "      <td>19.0</td>\n",
              "      <td>Damen Ave &amp; Pierce Ave</td>\n",
              "      <td>41.909396</td>\n",
              "      <td>-87.677692</td>\n",
              "      <td>19.0</td>\n",
              "      <td>73.0</td>\n",
              "      <td>10.0</td>\n",
              "      <td>17.3</td>\n",
              "      <td>-9999.0</td>\n",
              "      <td>partlycloudy</td>\n",
              "    </tr>\n",
              "  </tbody>\n",
              "</table>\n",
              "</div>\n",
              "      <button class=\"colab-df-convert\" onclick=\"convertToInteractive('df-52e3b33f-514d-494c-8318-3f866131bdcc')\"\n",
              "              title=\"Convert this dataframe to an interactive table.\"\n",
              "              style=\"display:none;\">\n",
              "        \n",
              "  <svg xmlns=\"http://www.w3.org/2000/svg\" height=\"24px\"viewBox=\"0 0 24 24\"\n",
              "       width=\"24px\">\n",
              "    <path d=\"M0 0h24v24H0V0z\" fill=\"none\"/>\n",
              "    <path d=\"M18.56 5.44l.94 2.06.94-2.06 2.06-.94-2.06-.94-.94-2.06-.94 2.06-2.06.94zm-11 1L8.5 8.5l.94-2.06 2.06-.94-2.06-.94L8.5 2.5l-.94 2.06-2.06.94zm10 10l.94 2.06.94-2.06 2.06-.94-2.06-.94-.94-2.06-.94 2.06-2.06.94z\"/><path d=\"M17.41 7.96l-1.37-1.37c-.4-.4-.92-.59-1.43-.59-.52 0-1.04.2-1.43.59L10.3 9.45l-7.72 7.72c-.78.78-.78 2.05 0 2.83L4 21.41c.39.39.9.59 1.41.59.51 0 1.02-.2 1.41-.59l7.78-7.78 2.81-2.81c.8-.78.8-2.07 0-2.86zM5.41 20L4 18.59l7.72-7.72 1.47 1.35L5.41 20z\"/>\n",
              "  </svg>\n",
              "      </button>\n",
              "      \n",
              "  <style>\n",
              "    .colab-df-container {\n",
              "      display:flex;\n",
              "      flex-wrap:wrap;\n",
              "      gap: 12px;\n",
              "    }\n",
              "\n",
              "    .colab-df-convert {\n",
              "      background-color: #E8F0FE;\n",
              "      border: none;\n",
              "      border-radius: 50%;\n",
              "      cursor: pointer;\n",
              "      display: none;\n",
              "      fill: #1967D2;\n",
              "      height: 32px;\n",
              "      padding: 0 0 0 0;\n",
              "      width: 32px;\n",
              "    }\n",
              "\n",
              "    .colab-df-convert:hover {\n",
              "      background-color: #E2EBFA;\n",
              "      box-shadow: 0px 1px 2px rgba(60, 64, 67, 0.3), 0px 1px 3px 1px rgba(60, 64, 67, 0.15);\n",
              "      fill: #174EA6;\n",
              "    }\n",
              "\n",
              "    [theme=dark] .colab-df-convert {\n",
              "      background-color: #3B4455;\n",
              "      fill: #D2E3FC;\n",
              "    }\n",
              "\n",
              "    [theme=dark] .colab-df-convert:hover {\n",
              "      background-color: #434B5C;\n",
              "      box-shadow: 0px 1px 3px 1px rgba(0, 0, 0, 0.15);\n",
              "      filter: drop-shadow(0px 1px 2px rgba(0, 0, 0, 0.3));\n",
              "      fill: #FFFFFF;\n",
              "    }\n",
              "  </style>\n",
              "\n",
              "      <script>\n",
              "        const buttonEl =\n",
              "          document.querySelector('#df-52e3b33f-514d-494c-8318-3f866131bdcc button.colab-df-convert');\n",
              "        buttonEl.style.display =\n",
              "          google.colab.kernel.accessAllowed ? 'block' : 'none';\n",
              "\n",
              "        async function convertToInteractive(key) {\n",
              "          const element = document.querySelector('#df-52e3b33f-514d-494c-8318-3f866131bdcc');\n",
              "          const dataTable =\n",
              "            await google.colab.kernel.invokeFunction('convertToInteractive',\n",
              "                                                     [key], {});\n",
              "          if (!dataTable) return;\n",
              "\n",
              "          const docLinkHtml = 'Like what you see? Visit the ' +\n",
              "            '<a target=\"_blank\" href=https://colab.research.google.com/notebooks/data_table.ipynb>data table notebook</a>'\n",
              "            + ' to learn more about interactive tables.';\n",
              "          element.innerHTML = '';\n",
              "          dataTable['output_type'] = 'display_data';\n",
              "          await google.colab.output.renderOutput(dataTable, element);\n",
              "          const docLink = document.createElement('div');\n",
              "          docLink.innerHTML = docLinkHtml;\n",
              "          element.appendChild(docLink);\n",
              "        }\n",
              "      </script>\n",
              "    </div>\n",
              "  </div>\n",
              "  "
            ],
            "text/plain": [
              "   trip_id    usertype gender  ... wind_speed precipitation        events\n",
              "0     7147  Subscriber   Male  ...       12.7       -9999.0  mostlycloudy\n",
              "1     7524  Subscriber   Male  ...        6.9       -9999.0  partlycloudy\n",
              "2    10927  Subscriber   Male  ...       16.1       -9999.0  mostlycloudy\n",
              "3    12907  Subscriber   Male  ...       16.1       -9999.0  mostlycloudy\n",
              "4    13168  Subscriber   Male  ...       17.3       -9999.0  partlycloudy\n",
              "\n",
              "[5 rows x 19 columns]"
            ]
          },
          "metadata": {},
          "execution_count": 3
        }
      ],
      "source": [
        "bikes.head()"
      ]
    },
    {
      "cell_type": "markdown",
      "metadata": {
        "id": "l3pJ-z2ZNcGh"
      },
      "source": [
        "The last five rows of the DataFrame are displayed with the `tail` method."
      ]
    },
    {
      "cell_type": "code",
      "execution_count": 4,
      "metadata": {
        "colab": {
          "base_uri": "https://localhost:8080/",
          "height": 444
        },
        "id": "pSHhJib_NcGi",
        "outputId": "7951e714-1106-41fb-a993-0c51823220d3"
      },
      "outputs": [
        {
          "output_type": "execute_result",
          "data": {
            "text/html": [
              "\n",
              "  <div id=\"df-843c3a0c-da6f-4fc1-9bef-a3f4cb06afd4\">\n",
              "    <div class=\"colab-df-container\">\n",
              "      <div>\n",
              "<style scoped>\n",
              "    .dataframe tbody tr th:only-of-type {\n",
              "        vertical-align: middle;\n",
              "    }\n",
              "\n",
              "    .dataframe tbody tr th {\n",
              "        vertical-align: top;\n",
              "    }\n",
              "\n",
              "    .dataframe thead th {\n",
              "        text-align: right;\n",
              "    }\n",
              "</style>\n",
              "<table border=\"1\" class=\"dataframe\">\n",
              "  <thead>\n",
              "    <tr style=\"text-align: right;\">\n",
              "      <th></th>\n",
              "      <th>trip_id</th>\n",
              "      <th>usertype</th>\n",
              "      <th>gender</th>\n",
              "      <th>starttime</th>\n",
              "      <th>stoptime</th>\n",
              "      <th>tripduration</th>\n",
              "      <th>from_station_name</th>\n",
              "      <th>latitude_start</th>\n",
              "      <th>longitude_start</th>\n",
              "      <th>dpcapacity_start</th>\n",
              "      <th>to_station_name</th>\n",
              "      <th>latitude_end</th>\n",
              "      <th>longitude_end</th>\n",
              "      <th>dpcapacity_end</th>\n",
              "      <th>temperature</th>\n",
              "      <th>visibility</th>\n",
              "      <th>wind_speed</th>\n",
              "      <th>precipitation</th>\n",
              "      <th>events</th>\n",
              "    </tr>\n",
              "  </thead>\n",
              "  <tbody>\n",
              "    <tr>\n",
              "      <th>50084</th>\n",
              "      <td>17534938</td>\n",
              "      <td>Subscriber</td>\n",
              "      <td>Male</td>\n",
              "      <td>2017-12-30 13:07:00</td>\n",
              "      <td>2017-12-30 13:34:00</td>\n",
              "      <td>1625</td>\n",
              "      <td>State St &amp; Pearson St</td>\n",
              "      <td>41.897448</td>\n",
              "      <td>-87.628722</td>\n",
              "      <td>27.0</td>\n",
              "      <td>Clark St &amp; Elm St</td>\n",
              "      <td>41.902973</td>\n",
              "      <td>-87.631280</td>\n",
              "      <td>27.0</td>\n",
              "      <td>5.0</td>\n",
              "      <td>10.0</td>\n",
              "      <td>16.1</td>\n",
              "      <td>-9999.0</td>\n",
              "      <td>partlycloudy</td>\n",
              "    </tr>\n",
              "    <tr>\n",
              "      <th>50085</th>\n",
              "      <td>17534969</td>\n",
              "      <td>Subscriber</td>\n",
              "      <td>Male</td>\n",
              "      <td>2017-12-30 13:34:00</td>\n",
              "      <td>2017-12-30 13:44:00</td>\n",
              "      <td>585</td>\n",
              "      <td>Halsted St &amp; 35th St (*)</td>\n",
              "      <td>41.830661</td>\n",
              "      <td>-87.647172</td>\n",
              "      <td>16.0</td>\n",
              "      <td>Union Ave &amp; Root St</td>\n",
              "      <td>41.819102</td>\n",
              "      <td>-87.643278</td>\n",
              "      <td>11.0</td>\n",
              "      <td>5.0</td>\n",
              "      <td>10.0</td>\n",
              "      <td>16.1</td>\n",
              "      <td>-9999.0</td>\n",
              "      <td>partlycloudy</td>\n",
              "    </tr>\n",
              "    <tr>\n",
              "      <th>50086</th>\n",
              "      <td>17534972</td>\n",
              "      <td>Subscriber</td>\n",
              "      <td>Male</td>\n",
              "      <td>2017-12-30 13:34:00</td>\n",
              "      <td>2017-12-30 13:48:00</td>\n",
              "      <td>824</td>\n",
              "      <td>Kingsbury St &amp; Kinzie St</td>\n",
              "      <td>41.889177</td>\n",
              "      <td>-87.638506</td>\n",
              "      <td>31.0</td>\n",
              "      <td>Halsted St &amp; Blackhawk St (*)</td>\n",
              "      <td>41.908537</td>\n",
              "      <td>-87.648627</td>\n",
              "      <td>20.0</td>\n",
              "      <td>5.0</td>\n",
              "      <td>10.0</td>\n",
              "      <td>16.1</td>\n",
              "      <td>-9999.0</td>\n",
              "      <td>partlycloudy</td>\n",
              "    </tr>\n",
              "    <tr>\n",
              "      <th>50087</th>\n",
              "      <td>17535645</td>\n",
              "      <td>Subscriber</td>\n",
              "      <td>Female</td>\n",
              "      <td>2017-12-31 09:30:00</td>\n",
              "      <td>2017-12-31 09:33:00</td>\n",
              "      <td>178</td>\n",
              "      <td>Clinton St &amp; Lake St</td>\n",
              "      <td>41.885637</td>\n",
              "      <td>-87.641823</td>\n",
              "      <td>23.0</td>\n",
              "      <td>Kingsbury St &amp; Kinzie St</td>\n",
              "      <td>41.889177</td>\n",
              "      <td>-87.638506</td>\n",
              "      <td>31.0</td>\n",
              "      <td>7.0</td>\n",
              "      <td>10.0</td>\n",
              "      <td>11.5</td>\n",
              "      <td>-9999.0</td>\n",
              "      <td>partlycloudy</td>\n",
              "    </tr>\n",
              "    <tr>\n",
              "      <th>50088</th>\n",
              "      <td>17536246</td>\n",
              "      <td>Subscriber</td>\n",
              "      <td>Male</td>\n",
              "      <td>2017-12-31 15:22:00</td>\n",
              "      <td>2017-12-31 15:26:00</td>\n",
              "      <td>214</td>\n",
              "      <td>Clarendon Ave &amp; Leland Ave</td>\n",
              "      <td>41.967968</td>\n",
              "      <td>-87.650001</td>\n",
              "      <td>15.0</td>\n",
              "      <td>Clifton Ave &amp; Lawrence Ave</td>\n",
              "      <td>41.968812</td>\n",
              "      <td>-87.657659</td>\n",
              "      <td>15.0</td>\n",
              "      <td>10.9</td>\n",
              "      <td>10.0</td>\n",
              "      <td>15.0</td>\n",
              "      <td>-9999.0</td>\n",
              "      <td>partlycloudy</td>\n",
              "    </tr>\n",
              "  </tbody>\n",
              "</table>\n",
              "</div>\n",
              "      <button class=\"colab-df-convert\" onclick=\"convertToInteractive('df-843c3a0c-da6f-4fc1-9bef-a3f4cb06afd4')\"\n",
              "              title=\"Convert this dataframe to an interactive table.\"\n",
              "              style=\"display:none;\">\n",
              "        \n",
              "  <svg xmlns=\"http://www.w3.org/2000/svg\" height=\"24px\"viewBox=\"0 0 24 24\"\n",
              "       width=\"24px\">\n",
              "    <path d=\"M0 0h24v24H0V0z\" fill=\"none\"/>\n",
              "    <path d=\"M18.56 5.44l.94 2.06.94-2.06 2.06-.94-2.06-.94-.94-2.06-.94 2.06-2.06.94zm-11 1L8.5 8.5l.94-2.06 2.06-.94-2.06-.94L8.5 2.5l-.94 2.06-2.06.94zm10 10l.94 2.06.94-2.06 2.06-.94-2.06-.94-.94-2.06-.94 2.06-2.06.94z\"/><path d=\"M17.41 7.96l-1.37-1.37c-.4-.4-.92-.59-1.43-.59-.52 0-1.04.2-1.43.59L10.3 9.45l-7.72 7.72c-.78.78-.78 2.05 0 2.83L4 21.41c.39.39.9.59 1.41.59.51 0 1.02-.2 1.41-.59l7.78-7.78 2.81-2.81c.8-.78.8-2.07 0-2.86zM5.41 20L4 18.59l7.72-7.72 1.47 1.35L5.41 20z\"/>\n",
              "  </svg>\n",
              "      </button>\n",
              "      \n",
              "  <style>\n",
              "    .colab-df-container {\n",
              "      display:flex;\n",
              "      flex-wrap:wrap;\n",
              "      gap: 12px;\n",
              "    }\n",
              "\n",
              "    .colab-df-convert {\n",
              "      background-color: #E8F0FE;\n",
              "      border: none;\n",
              "      border-radius: 50%;\n",
              "      cursor: pointer;\n",
              "      display: none;\n",
              "      fill: #1967D2;\n",
              "      height: 32px;\n",
              "      padding: 0 0 0 0;\n",
              "      width: 32px;\n",
              "    }\n",
              "\n",
              "    .colab-df-convert:hover {\n",
              "      background-color: #E2EBFA;\n",
              "      box-shadow: 0px 1px 2px rgba(60, 64, 67, 0.3), 0px 1px 3px 1px rgba(60, 64, 67, 0.15);\n",
              "      fill: #174EA6;\n",
              "    }\n",
              "\n",
              "    [theme=dark] .colab-df-convert {\n",
              "      background-color: #3B4455;\n",
              "      fill: #D2E3FC;\n",
              "    }\n",
              "\n",
              "    [theme=dark] .colab-df-convert:hover {\n",
              "      background-color: #434B5C;\n",
              "      box-shadow: 0px 1px 3px 1px rgba(0, 0, 0, 0.15);\n",
              "      filter: drop-shadow(0px 1px 2px rgba(0, 0, 0, 0.3));\n",
              "      fill: #FFFFFF;\n",
              "    }\n",
              "  </style>\n",
              "\n",
              "      <script>\n",
              "        const buttonEl =\n",
              "          document.querySelector('#df-843c3a0c-da6f-4fc1-9bef-a3f4cb06afd4 button.colab-df-convert');\n",
              "        buttonEl.style.display =\n",
              "          google.colab.kernel.accessAllowed ? 'block' : 'none';\n",
              "\n",
              "        async function convertToInteractive(key) {\n",
              "          const element = document.querySelector('#df-843c3a0c-da6f-4fc1-9bef-a3f4cb06afd4');\n",
              "          const dataTable =\n",
              "            await google.colab.kernel.invokeFunction('convertToInteractive',\n",
              "                                                     [key], {});\n",
              "          if (!dataTable) return;\n",
              "\n",
              "          const docLinkHtml = 'Like what you see? Visit the ' +\n",
              "            '<a target=\"_blank\" href=https://colab.research.google.com/notebooks/data_table.ipynb>data table notebook</a>'\n",
              "            + ' to learn more about interactive tables.';\n",
              "          element.innerHTML = '';\n",
              "          dataTable['output_type'] = 'display_data';\n",
              "          await google.colab.output.renderOutput(dataTable, element);\n",
              "          const docLink = document.createElement('div');\n",
              "          docLink.innerHTML = docLinkHtml;\n",
              "          element.appendChild(docLink);\n",
              "        }\n",
              "      </script>\n",
              "    </div>\n",
              "  </div>\n",
              "  "
            ],
            "text/plain": [
              "        trip_id    usertype  gender  ... wind_speed precipitation        events\n",
              "50084  17534938  Subscriber    Male  ...       16.1       -9999.0  partlycloudy\n",
              "50085  17534969  Subscriber    Male  ...       16.1       -9999.0  partlycloudy\n",
              "50086  17534972  Subscriber    Male  ...       16.1       -9999.0  partlycloudy\n",
              "50087  17535645  Subscriber  Female  ...       11.5       -9999.0  partlycloudy\n",
              "50088  17536246  Subscriber    Male  ...       15.0       -9999.0  partlycloudy\n",
              "\n",
              "[5 rows x 19 columns]"
            ]
          },
          "metadata": {},
          "execution_count": 4
        }
      ],
      "source": [
        "bikes.tail()"
      ]
    },
    {
      "cell_type": "markdown",
      "metadata": {
        "id": "FY6A2zNgNcGi"
      },
      "source": [
        "### First and last `n` rows\n",
        "Both the `head` and `tail` methods take a single integer parameter `n` controlling the number of rows returned. Here, we output the first three rows."
      ]
    },
    {
      "cell_type": "code",
      "execution_count": 5,
      "metadata": {
        "colab": {
          "base_uri": "https://localhost:8080/",
          "height": 312
        },
        "id": "ZX2ZPOyCNcGj",
        "outputId": "b0e65fd4-da5a-4f74-9ad2-3a02d190cad8"
      },
      "outputs": [
        {
          "output_type": "execute_result",
          "data": {
            "text/html": [
              "\n",
              "  <div id=\"df-211d2c8e-8ceb-4d3a-a866-84629ff0a461\">\n",
              "    <div class=\"colab-df-container\">\n",
              "      <div>\n",
              "<style scoped>\n",
              "    .dataframe tbody tr th:only-of-type {\n",
              "        vertical-align: middle;\n",
              "    }\n",
              "\n",
              "    .dataframe tbody tr th {\n",
              "        vertical-align: top;\n",
              "    }\n",
              "\n",
              "    .dataframe thead th {\n",
              "        text-align: right;\n",
              "    }\n",
              "</style>\n",
              "<table border=\"1\" class=\"dataframe\">\n",
              "  <thead>\n",
              "    <tr style=\"text-align: right;\">\n",
              "      <th></th>\n",
              "      <th>trip_id</th>\n",
              "      <th>usertype</th>\n",
              "      <th>gender</th>\n",
              "      <th>starttime</th>\n",
              "      <th>stoptime</th>\n",
              "      <th>tripduration</th>\n",
              "      <th>from_station_name</th>\n",
              "      <th>latitude_start</th>\n",
              "      <th>longitude_start</th>\n",
              "      <th>dpcapacity_start</th>\n",
              "      <th>to_station_name</th>\n",
              "      <th>latitude_end</th>\n",
              "      <th>longitude_end</th>\n",
              "      <th>dpcapacity_end</th>\n",
              "      <th>temperature</th>\n",
              "      <th>visibility</th>\n",
              "      <th>wind_speed</th>\n",
              "      <th>precipitation</th>\n",
              "      <th>events</th>\n",
              "    </tr>\n",
              "  </thead>\n",
              "  <tbody>\n",
              "    <tr>\n",
              "      <th>0</th>\n",
              "      <td>7147</td>\n",
              "      <td>Subscriber</td>\n",
              "      <td>Male</td>\n",
              "      <td>2013-06-28 19:01:00</td>\n",
              "      <td>2013-06-28 19:17:00</td>\n",
              "      <td>993</td>\n",
              "      <td>Lake Shore Dr &amp; Monroe St</td>\n",
              "      <td>41.881050</td>\n",
              "      <td>-87.616970</td>\n",
              "      <td>11.0</td>\n",
              "      <td>Michigan Ave &amp; Oak St</td>\n",
              "      <td>41.90096</td>\n",
              "      <td>-87.623777</td>\n",
              "      <td>15.0</td>\n",
              "      <td>73.9</td>\n",
              "      <td>10.0</td>\n",
              "      <td>12.7</td>\n",
              "      <td>-9999.0</td>\n",
              "      <td>mostlycloudy</td>\n",
              "    </tr>\n",
              "    <tr>\n",
              "      <th>1</th>\n",
              "      <td>7524</td>\n",
              "      <td>Subscriber</td>\n",
              "      <td>Male</td>\n",
              "      <td>2013-06-28 22:53:00</td>\n",
              "      <td>2013-06-28 23:03:00</td>\n",
              "      <td>623</td>\n",
              "      <td>Clinton St &amp; Washington Blvd</td>\n",
              "      <td>41.883380</td>\n",
              "      <td>-87.641170</td>\n",
              "      <td>31.0</td>\n",
              "      <td>Wells St &amp; Walton St</td>\n",
              "      <td>41.89993</td>\n",
              "      <td>-87.634430</td>\n",
              "      <td>19.0</td>\n",
              "      <td>69.1</td>\n",
              "      <td>10.0</td>\n",
              "      <td>6.9</td>\n",
              "      <td>-9999.0</td>\n",
              "      <td>partlycloudy</td>\n",
              "    </tr>\n",
              "    <tr>\n",
              "      <th>2</th>\n",
              "      <td>10927</td>\n",
              "      <td>Subscriber</td>\n",
              "      <td>Male</td>\n",
              "      <td>2013-06-30 14:43:00</td>\n",
              "      <td>2013-06-30 15:01:00</td>\n",
              "      <td>1040</td>\n",
              "      <td>Sheffield Ave &amp; Kingsbury St</td>\n",
              "      <td>41.909592</td>\n",
              "      <td>-87.653497</td>\n",
              "      <td>15.0</td>\n",
              "      <td>Dearborn St &amp; Monroe St</td>\n",
              "      <td>41.88132</td>\n",
              "      <td>-87.629521</td>\n",
              "      <td>23.0</td>\n",
              "      <td>73.0</td>\n",
              "      <td>10.0</td>\n",
              "      <td>16.1</td>\n",
              "      <td>-9999.0</td>\n",
              "      <td>mostlycloudy</td>\n",
              "    </tr>\n",
              "  </tbody>\n",
              "</table>\n",
              "</div>\n",
              "      <button class=\"colab-df-convert\" onclick=\"convertToInteractive('df-211d2c8e-8ceb-4d3a-a866-84629ff0a461')\"\n",
              "              title=\"Convert this dataframe to an interactive table.\"\n",
              "              style=\"display:none;\">\n",
              "        \n",
              "  <svg xmlns=\"http://www.w3.org/2000/svg\" height=\"24px\"viewBox=\"0 0 24 24\"\n",
              "       width=\"24px\">\n",
              "    <path d=\"M0 0h24v24H0V0z\" fill=\"none\"/>\n",
              "    <path d=\"M18.56 5.44l.94 2.06.94-2.06 2.06-.94-2.06-.94-.94-2.06-.94 2.06-2.06.94zm-11 1L8.5 8.5l.94-2.06 2.06-.94-2.06-.94L8.5 2.5l-.94 2.06-2.06.94zm10 10l.94 2.06.94-2.06 2.06-.94-2.06-.94-.94-2.06-.94 2.06-2.06.94z\"/><path d=\"M17.41 7.96l-1.37-1.37c-.4-.4-.92-.59-1.43-.59-.52 0-1.04.2-1.43.59L10.3 9.45l-7.72 7.72c-.78.78-.78 2.05 0 2.83L4 21.41c.39.39.9.59 1.41.59.51 0 1.02-.2 1.41-.59l7.78-7.78 2.81-2.81c.8-.78.8-2.07 0-2.86zM5.41 20L4 18.59l7.72-7.72 1.47 1.35L5.41 20z\"/>\n",
              "  </svg>\n",
              "      </button>\n",
              "      \n",
              "  <style>\n",
              "    .colab-df-container {\n",
              "      display:flex;\n",
              "      flex-wrap:wrap;\n",
              "      gap: 12px;\n",
              "    }\n",
              "\n",
              "    .colab-df-convert {\n",
              "      background-color: #E8F0FE;\n",
              "      border: none;\n",
              "      border-radius: 50%;\n",
              "      cursor: pointer;\n",
              "      display: none;\n",
              "      fill: #1967D2;\n",
              "      height: 32px;\n",
              "      padding: 0 0 0 0;\n",
              "      width: 32px;\n",
              "    }\n",
              "\n",
              "    .colab-df-convert:hover {\n",
              "      background-color: #E2EBFA;\n",
              "      box-shadow: 0px 1px 2px rgba(60, 64, 67, 0.3), 0px 1px 3px 1px rgba(60, 64, 67, 0.15);\n",
              "      fill: #174EA6;\n",
              "    }\n",
              "\n",
              "    [theme=dark] .colab-df-convert {\n",
              "      background-color: #3B4455;\n",
              "      fill: #D2E3FC;\n",
              "    }\n",
              "\n",
              "    [theme=dark] .colab-df-convert:hover {\n",
              "      background-color: #434B5C;\n",
              "      box-shadow: 0px 1px 3px 1px rgba(0, 0, 0, 0.15);\n",
              "      filter: drop-shadow(0px 1px 2px rgba(0, 0, 0, 0.3));\n",
              "      fill: #FFFFFF;\n",
              "    }\n",
              "  </style>\n",
              "\n",
              "      <script>\n",
              "        const buttonEl =\n",
              "          document.querySelector('#df-211d2c8e-8ceb-4d3a-a866-84629ff0a461 button.colab-df-convert');\n",
              "        buttonEl.style.display =\n",
              "          google.colab.kernel.accessAllowed ? 'block' : 'none';\n",
              "\n",
              "        async function convertToInteractive(key) {\n",
              "          const element = document.querySelector('#df-211d2c8e-8ceb-4d3a-a866-84629ff0a461');\n",
              "          const dataTable =\n",
              "            await google.colab.kernel.invokeFunction('convertToInteractive',\n",
              "                                                     [key], {});\n",
              "          if (!dataTable) return;\n",
              "\n",
              "          const docLinkHtml = 'Like what you see? Visit the ' +\n",
              "            '<a target=\"_blank\" href=https://colab.research.google.com/notebooks/data_table.ipynb>data table notebook</a>'\n",
              "            + ' to learn more about interactive tables.';\n",
              "          element.innerHTML = '';\n",
              "          dataTable['output_type'] = 'display_data';\n",
              "          await google.colab.output.renderOutput(dataTable, element);\n",
              "          const docLink = document.createElement('div');\n",
              "          docLink.innerHTML = docLinkHtml;\n",
              "          element.appendChild(docLink);\n",
              "        }\n",
              "      </script>\n",
              "    </div>\n",
              "  </div>\n",
              "  "
            ],
            "text/plain": [
              "   trip_id    usertype gender  ... wind_speed precipitation        events\n",
              "0     7147  Subscriber   Male  ...       12.7       -9999.0  mostlycloudy\n",
              "1     7524  Subscriber   Male  ...        6.9       -9999.0  partlycloudy\n",
              "2    10927  Subscriber   Male  ...       16.1       -9999.0  mostlycloudy\n",
              "\n",
              "[3 rows x 19 columns]"
            ]
          },
          "metadata": {},
          "execution_count": 5
        }
      ],
      "source": [
        "bikes.head(3)"
      ]
    },
    {
      "cell_type": "markdown",
      "metadata": {
        "id": "8RSCYVeLNcGk"
      },
      "source": [
        "## Components of a DataFrame\n",
        "\n",
        "The DataFrame is composed of three separate components - the **columns**, the **index**, and the **data**. These terms will be used throughout the book and understanding them is vital to your ability to use pandas. Take a look at the following graphic of our `bikes` DataFrame stylized to put emphasis on each component.\n",
        "\n",
        "![][1]\n",
        "\n",
        "[1]: images/df_components.png\n",
        "\n",
        "### The index\n",
        "The index provides a **label** for each row and will always be displayed in **bold** font to the left of the data. For instance, the index label **3** references all the values in its row.\n",
        "\n",
        "The index is also referred to as the **row labels** and individual values in the index are referred to as an **index label** or **row label**. A major purpose of the index is to identify each row in the DataFrame. Similarly to how we humans have names to identify ourselves, the index has labels to identify each row.\n",
        "\n",
        "In the above DataFrame, the index is simply a sequence of integers beginning at 0. The values in the index are not limited to integers. Strings are a common type that are used in the index and make for more descriptive labels.\n",
        "\n",
        "Surprisingly, values in the index are not required to be unique. In fact, all the index values can be the same. This is important to understand, as knowing a row label does not guarantee a one-to-one mapping to one specific row.\n",
        "\n",
        "### The columns\n",
        "The columns provide a **label** for each column and will always be displayed in **bold** font above the data. In the above DataFrame, the column name `from_station_name` references all the values in that column.\n",
        "\n",
        "The columns are also referred to as the **column names** or the **column labels** with individual values referred to as a **column name** or **column label**.\n",
        "\n",
        "The column names in the above DataFrame are strings, but can be other types such as integers though string names are more descriptive. Like the index, pandas will default column names to an integer sequence beginning at 0, if the columns are not provided upon DataFrame creation.\n",
        "\n",
        "As with the index, the column names are not required to be unique, though having duplicate columns would be bad practice as its vital to be able to uniquely identify each column.\n",
        "\n",
        "### The data\n",
        "The actual data is to the right of the index and below the columns and is always in normal font. The data is also referred to as the **values**. The data represents all the values for all the columns. It is important to note that the index and the columns are NOT part of the data. They are separate objects and act as **labels**.\n",
        "\n",
        "### The Axes\n",
        "The index and columns are known collectively as the **axes** and each represent a single **axis** of the two-dimensional DataFrame. pandas uses the integer **0** for the index and <strong>1</strong> for the columns. pandas allows you to use these integers when referencing the index and columns within methods. This terminology is borrowed from numpy's ndarray objects which can have any number of dimensions."
      ]
    },
    {
      "cell_type": "markdown",
      "metadata": {
        "id": "-RZuY1LvNcGm"
      },
      "source": [
        "## What type of object is `bikes`?\n",
        "Let's verify that `bikes` is indeed a DataFrame with the `type` function."
      ]
    },
    {
      "cell_type": "code",
      "execution_count": 6,
      "metadata": {
        "colab": {
          "base_uri": "https://localhost:8080/"
        },
        "id": "pRXzw3zVNcGn",
        "outputId": "b3bcdfdb-8543-422f-a954-201d816c1907"
      },
      "outputs": [
        {
          "output_type": "execute_result",
          "data": {
            "text/plain": [
              "pandas.core.frame.DataFrame"
            ]
          },
          "metadata": {},
          "execution_count": 6
        }
      ],
      "source": [
        "type(bikes)"
      ]
    },
    {
      "cell_type": "markdown",
      "metadata": {
        "id": "oQ7nuSh9NcGo"
      },
      "source": [
        "### Fully-qualified name\n",
        "The above output returns something called the **fully-qualified name**. Only the word after the last dot is the name of the type and in this case we have verified that the `bikes` variable has type `DataFrame`. The fully-qualified name always returns the package and module name of where the type was defined.\n",
        "\n",
        "The package name is the first part of the fully-qualified name and in this case is `pandas`. The module name is the word immediately preceding the name of the type and in this case is `frame`.\n",
        "\n",
        "### Package vs Module\n",
        "A Python **package** is a directory containing other directories or modules. A Python **module** is a file (typically a text file ending in .py) that contains Python code of where the type is defined (typically with a `class` statement).\n",
        "\n",
        "### Sub-packages\n",
        "Any directory containing other directories or modules within a Python package is considered a **sub-package**. In this case, `core` is the sub-package.\n",
        "\n",
        "### Where are the packages located on my machine?\n",
        "Third-party packages are installed in the `site-packages` directory which itself is set up during Python installation. We can get the actual location with the help from the standard library's `site` module's `getsitepackages` function."
      ]
    },
    {
      "cell_type": "code",
      "execution_count": 7,
      "metadata": {
        "colab": {
          "base_uri": "https://localhost:8080/"
        },
        "id": "k4DnjX60NcGo",
        "outputId": "8485e19b-b9aa-4fe2-d9a4-465b154fa371"
      },
      "outputs": [
        {
          "output_type": "execute_result",
          "data": {
            "text/plain": [
              "['/usr/local/lib/python3.7/dist-packages',\n",
              " '/usr/lib/python3/dist-packages',\n",
              " '/usr/lib/python3.7/dist-packages']"
            ]
          },
          "metadata": {},
          "execution_count": 7
        }
      ],
      "source": [
        "import site\n",
        "sp = site.getsitepackages()\n",
        "sp"
      ]
    },
    {
      "cell_type": "markdown",
      "metadata": {
        "id": "XbYpUMKbNcGo"
      },
      "source": [
        "You can navigate to this directory with your file explorer. The will be a 'pandas' directory found there and within that will be a 'core' directory which will contain the 'frame.py' file. It is this text file which contains Python code where the DataFrame class is defined."
      ]
    },
    {
      "cell_type": "markdown",
      "metadata": {
        "id": "TpTI21JjNcGp"
      },
      "source": [
        "## Select a single column from a DataFrame - a Series\n",
        "To select a single column from a DataFrame, pass the name of one of the columns to the brackets operator, `[]`. The returned object will be a pandas **Series**. Let's select the column name `tripduration`, assign it to a variable, and output the first few values to the screen. The `head` and `tail` methods work the same as they do with DataFrames."
      ]
    },
    {
      "cell_type": "code",
      "execution_count": 8,
      "metadata": {
        "colab": {
          "base_uri": "https://localhost:8080/"
        },
        "id": "x0uR753YNcGp",
        "outputId": "aa546b72-8049-41a4-d565-33f457048267"
      },
      "outputs": [
        {
          "output_type": "execute_result",
          "data": {
            "text/plain": [
              "0     993\n",
              "1     623\n",
              "2    1040\n",
              "3     667\n",
              "4     130\n",
              "Name: tripduration, dtype: int64"
            ]
          },
          "metadata": {},
          "execution_count": 8
        }
      ],
      "source": [
        "trip_duration = bikes['tripduration']\n",
        "trip_duration.head()"
      ]
    },
    {
      "cell_type": "code",
      "execution_count": 9,
      "metadata": {
        "colab": {
          "base_uri": "https://localhost:8080/"
        },
        "id": "0AzYwTwlNcGq",
        "outputId": "06938c03-9c81-4731-e699-94ea52bd2278"
      },
      "outputs": [
        {
          "output_type": "execute_result",
          "data": {
            "text/plain": [
              "50086    824\n",
              "50087    178\n",
              "50088    214\n",
              "Name: tripduration, dtype: int64"
            ]
          },
          "metadata": {},
          "execution_count": 9
        }
      ],
      "source": [
        "trip_duration.tail(3)"
      ]
    },
    {
      "cell_type": "markdown",
      "metadata": {
        "id": "8EKjiGdxNcGr"
      },
      "source": [
        "## Components of a Series - the index and the data\n",
        "A Series is simpler than a DataFrame with just a single dimension of data. It has two components - the **index** and the **data**. Let's take a look at a stylized Series graphic.\n",
        "\n",
        "![](images/series_components.png)\n",
        "\n",
        "It's important to note that a Series has no rows and no columns. In appearance, it resembles a one-column DataFrame, but it technically has no columns. It just has a sequence of values that are labeled by an index.\n",
        "\n",
        "### The index\n",
        "\n",
        "A Series index serves as labels for the values and a single index **label** always references a single value. In the above image, the index label **3** corresponds with the value 667. The Series index is virtually identical to the DataFrame index, so the same rules apply to it. Index values can be duplicated and can be types other than integers, such as strings. \n",
        "\n",
        "### Output of Series vs DataFrame\n",
        "Notice that there is no nice HTML styling for the Series. It's just plain text. Also, below each Series will be some metadata on it - the **name**, **length**, and **dtype**. \n",
        "\n",
        "* The **name** is not important right now. If the Series is formed from a column of a DataFrame it will be set to that column name.\n",
        "* The **length** is the number of values in the Series\n",
        "* The **dtype** is the data type of the Series, which will be discussed in upcoming chapters.\n",
        "\n",
        "It's important to note that this metadata is NOT part of the Series itself and is just some extra info pandas outputs for your information.\n",
        "\n",
        "## Exercises\n",
        "Use the `bikes` DataFrame for the following exercises."
      ]
    },
    {
      "cell_type": "markdown",
      "metadata": {
        "id": "0o_44OM7NcGr"
      },
      "source": [
        "### Exercise 1\n",
        "<span  style=\"color:green; font-size:16px\">Select the column `events`, the type of weather that was recorded, and assign it to a variable with the same name. Output the first 10 values of it.</span>"
      ]
    },
    {
      "cell_type": "code",
      "execution_count": 10,
      "metadata": {
        "colab": {
          "base_uri": "https://localhost:8080/"
        },
        "id": "weu7s_orNcGs",
        "outputId": "c28f4260-efea-4083-f88e-36d515dbcef9"
      },
      "outputs": [
        {
          "output_type": "execute_result",
          "data": {
            "text/plain": [
              "0    mostlycloudy\n",
              "1    partlycloudy\n",
              "2    mostlycloudy\n",
              "3    mostlycloudy\n",
              "4    partlycloudy\n",
              "5    mostlycloudy\n",
              "6          cloudy\n",
              "7          cloudy\n",
              "8          cloudy\n",
              "9    mostlycloudy\n",
              "Name: events, dtype: object"
            ]
          },
          "metadata": {},
          "execution_count": 10
        }
      ],
      "source": [
        "events = bikes['events']\n",
        "events.head(10)"
      ]
    },
    {
      "cell_type": "markdown",
      "metadata": {
        "id": "AyP-sm8rNcGt"
      },
      "source": [
        "### Exercise 2\n",
        "<span  style=\"color:green; font-size:16px\">What type of object is `events`?</span>"
      ]
    },
    {
      "cell_type": "code",
      "execution_count": 11,
      "metadata": {
        "colab": {
          "base_uri": "https://localhost:8080/"
        },
        "id": "x199t1viNcGt",
        "outputId": "0c22661f-ec21-46b6-921c-4ef8f059d4c1"
      },
      "outputs": [
        {
          "output_type": "execute_result",
          "data": {
            "text/plain": [
              "pandas.core.series.Series"
            ]
          },
          "metadata": {},
          "execution_count": 11
        }
      ],
      "source": [
        "type(events)"
      ]
    },
    {
      "cell_type": "markdown",
      "metadata": {
        "id": "qdNxJZ0QNcGt"
      },
      "source": [
        "### Exercise 3\n",
        "<span  style=\"color:green; font-size:16px\">Select the last 2 rows of the `bikes` DataFrame and assign it to the variable `bikes_last_2`. What type of object is `bikes_last_2`?</span>"
      ]
    },
    {
      "cell_type": "code",
      "execution_count": 12,
      "metadata": {
        "colab": {
          "base_uri": "https://localhost:8080/",
          "height": 246
        },
        "id": "sCfu1xuTNcGu",
        "outputId": "d2e42be6-9ece-4af8-a850-b81aa3550c54"
      },
      "outputs": [
        {
          "output_type": "execute_result",
          "data": {
            "text/html": [
              "\n",
              "  <div id=\"df-5ba9200d-22c2-4bda-8878-817d19443911\">\n",
              "    <div class=\"colab-df-container\">\n",
              "      <div>\n",
              "<style scoped>\n",
              "    .dataframe tbody tr th:only-of-type {\n",
              "        vertical-align: middle;\n",
              "    }\n",
              "\n",
              "    .dataframe tbody tr th {\n",
              "        vertical-align: top;\n",
              "    }\n",
              "\n",
              "    .dataframe thead th {\n",
              "        text-align: right;\n",
              "    }\n",
              "</style>\n",
              "<table border=\"1\" class=\"dataframe\">\n",
              "  <thead>\n",
              "    <tr style=\"text-align: right;\">\n",
              "      <th></th>\n",
              "      <th>trip_id</th>\n",
              "      <th>usertype</th>\n",
              "      <th>gender</th>\n",
              "      <th>starttime</th>\n",
              "      <th>stoptime</th>\n",
              "      <th>tripduration</th>\n",
              "      <th>from_station_name</th>\n",
              "      <th>latitude_start</th>\n",
              "      <th>longitude_start</th>\n",
              "      <th>dpcapacity_start</th>\n",
              "      <th>to_station_name</th>\n",
              "      <th>latitude_end</th>\n",
              "      <th>longitude_end</th>\n",
              "      <th>dpcapacity_end</th>\n",
              "      <th>temperature</th>\n",
              "      <th>visibility</th>\n",
              "      <th>wind_speed</th>\n",
              "      <th>precipitation</th>\n",
              "      <th>events</th>\n",
              "    </tr>\n",
              "  </thead>\n",
              "  <tbody>\n",
              "    <tr>\n",
              "      <th>50087</th>\n",
              "      <td>17535645</td>\n",
              "      <td>Subscriber</td>\n",
              "      <td>Female</td>\n",
              "      <td>2017-12-31 09:30:00</td>\n",
              "      <td>2017-12-31 09:33:00</td>\n",
              "      <td>178</td>\n",
              "      <td>Clinton St &amp; Lake St</td>\n",
              "      <td>41.885637</td>\n",
              "      <td>-87.641823</td>\n",
              "      <td>23.0</td>\n",
              "      <td>Kingsbury St &amp; Kinzie St</td>\n",
              "      <td>41.889177</td>\n",
              "      <td>-87.638506</td>\n",
              "      <td>31.0</td>\n",
              "      <td>7.0</td>\n",
              "      <td>10.0</td>\n",
              "      <td>11.5</td>\n",
              "      <td>-9999.0</td>\n",
              "      <td>partlycloudy</td>\n",
              "    </tr>\n",
              "    <tr>\n",
              "      <th>50088</th>\n",
              "      <td>17536246</td>\n",
              "      <td>Subscriber</td>\n",
              "      <td>Male</td>\n",
              "      <td>2017-12-31 15:22:00</td>\n",
              "      <td>2017-12-31 15:26:00</td>\n",
              "      <td>214</td>\n",
              "      <td>Clarendon Ave &amp; Leland Ave</td>\n",
              "      <td>41.967968</td>\n",
              "      <td>-87.650001</td>\n",
              "      <td>15.0</td>\n",
              "      <td>Clifton Ave &amp; Lawrence Ave</td>\n",
              "      <td>41.968812</td>\n",
              "      <td>-87.657659</td>\n",
              "      <td>15.0</td>\n",
              "      <td>10.9</td>\n",
              "      <td>10.0</td>\n",
              "      <td>15.0</td>\n",
              "      <td>-9999.0</td>\n",
              "      <td>partlycloudy</td>\n",
              "    </tr>\n",
              "  </tbody>\n",
              "</table>\n",
              "</div>\n",
              "      <button class=\"colab-df-convert\" onclick=\"convertToInteractive('df-5ba9200d-22c2-4bda-8878-817d19443911')\"\n",
              "              title=\"Convert this dataframe to an interactive table.\"\n",
              "              style=\"display:none;\">\n",
              "        \n",
              "  <svg xmlns=\"http://www.w3.org/2000/svg\" height=\"24px\"viewBox=\"0 0 24 24\"\n",
              "       width=\"24px\">\n",
              "    <path d=\"M0 0h24v24H0V0z\" fill=\"none\"/>\n",
              "    <path d=\"M18.56 5.44l.94 2.06.94-2.06 2.06-.94-2.06-.94-.94-2.06-.94 2.06-2.06.94zm-11 1L8.5 8.5l.94-2.06 2.06-.94-2.06-.94L8.5 2.5l-.94 2.06-2.06.94zm10 10l.94 2.06.94-2.06 2.06-.94-2.06-.94-.94-2.06-.94 2.06-2.06.94z\"/><path d=\"M17.41 7.96l-1.37-1.37c-.4-.4-.92-.59-1.43-.59-.52 0-1.04.2-1.43.59L10.3 9.45l-7.72 7.72c-.78.78-.78 2.05 0 2.83L4 21.41c.39.39.9.59 1.41.59.51 0 1.02-.2 1.41-.59l7.78-7.78 2.81-2.81c.8-.78.8-2.07 0-2.86zM5.41 20L4 18.59l7.72-7.72 1.47 1.35L5.41 20z\"/>\n",
              "  </svg>\n",
              "      </button>\n",
              "      \n",
              "  <style>\n",
              "    .colab-df-container {\n",
              "      display:flex;\n",
              "      flex-wrap:wrap;\n",
              "      gap: 12px;\n",
              "    }\n",
              "\n",
              "    .colab-df-convert {\n",
              "      background-color: #E8F0FE;\n",
              "      border: none;\n",
              "      border-radius: 50%;\n",
              "      cursor: pointer;\n",
              "      display: none;\n",
              "      fill: #1967D2;\n",
              "      height: 32px;\n",
              "      padding: 0 0 0 0;\n",
              "      width: 32px;\n",
              "    }\n",
              "\n",
              "    .colab-df-convert:hover {\n",
              "      background-color: #E2EBFA;\n",
              "      box-shadow: 0px 1px 2px rgba(60, 64, 67, 0.3), 0px 1px 3px 1px rgba(60, 64, 67, 0.15);\n",
              "      fill: #174EA6;\n",
              "    }\n",
              "\n",
              "    [theme=dark] .colab-df-convert {\n",
              "      background-color: #3B4455;\n",
              "      fill: #D2E3FC;\n",
              "    }\n",
              "\n",
              "    [theme=dark] .colab-df-convert:hover {\n",
              "      background-color: #434B5C;\n",
              "      box-shadow: 0px 1px 3px 1px rgba(0, 0, 0, 0.15);\n",
              "      filter: drop-shadow(0px 1px 2px rgba(0, 0, 0, 0.3));\n",
              "      fill: #FFFFFF;\n",
              "    }\n",
              "  </style>\n",
              "\n",
              "      <script>\n",
              "        const buttonEl =\n",
              "          document.querySelector('#df-5ba9200d-22c2-4bda-8878-817d19443911 button.colab-df-convert');\n",
              "        buttonEl.style.display =\n",
              "          google.colab.kernel.accessAllowed ? 'block' : 'none';\n",
              "\n",
              "        async function convertToInteractive(key) {\n",
              "          const element = document.querySelector('#df-5ba9200d-22c2-4bda-8878-817d19443911');\n",
              "          const dataTable =\n",
              "            await google.colab.kernel.invokeFunction('convertToInteractive',\n",
              "                                                     [key], {});\n",
              "          if (!dataTable) return;\n",
              "\n",
              "          const docLinkHtml = 'Like what you see? Visit the ' +\n",
              "            '<a target=\"_blank\" href=https://colab.research.google.com/notebooks/data_table.ipynb>data table notebook</a>'\n",
              "            + ' to learn more about interactive tables.';\n",
              "          element.innerHTML = '';\n",
              "          dataTable['output_type'] = 'display_data';\n",
              "          await google.colab.output.renderOutput(dataTable, element);\n",
              "          const docLink = document.createElement('div');\n",
              "          docLink.innerHTML = docLinkHtml;\n",
              "          element.appendChild(docLink);\n",
              "        }\n",
              "      </script>\n",
              "    </div>\n",
              "  </div>\n",
              "  "
            ],
            "text/plain": [
              "        trip_id    usertype  gender  ... wind_speed precipitation        events\n",
              "50087  17535645  Subscriber  Female  ...       11.5       -9999.0  partlycloudy\n",
              "50088  17536246  Subscriber    Male  ...       15.0       -9999.0  partlycloudy\n",
              "\n",
              "[2 rows x 19 columns]"
            ]
          },
          "metadata": {},
          "execution_count": 12
        }
      ],
      "source": [
        "bikes_last_2 = bikes.tail(2)\n",
        "bikes_last_2"
      ]
    },
    {
      "cell_type": "code",
      "source": [
        "type(bikes_last_2)"
      ],
      "metadata": {
        "colab": {
          "base_uri": "https://localhost:8080/"
        },
        "id": "2SustGsIOO9v",
        "outputId": "1b963fb5-f25e-4924-fc7d-e5722a45c8ed"
      },
      "execution_count": 13,
      "outputs": [
        {
          "output_type": "execute_result",
          "data": {
            "text/plain": [
              "pandas.core.frame.DataFrame"
            ]
          },
          "metadata": {},
          "execution_count": 13
        }
      ]
    }
  ],
  "metadata": {
    "anaconda-cloud": {},
    "kernelspec": {
      "display_name": "Python 3",
      "language": "python",
      "name": "python3"
    },
    "language_info": {
      "codemirror_mode": {
        "name": "ipython",
        "version": 3
      },
      "file_extension": ".py",
      "mimetype": "text/x-python",
      "name": "python",
      "nbconvert_exporter": "python",
      "pygments_lexer": "ipython3",
      "version": "3.7.3"
    },
    "varInspector": {
      "cols": {
        "lenName": 16,
        "lenType": 16,
        "lenVar": 40
      },
      "kernels_config": {
        "python": {
          "delete_cmd_postfix": "",
          "delete_cmd_prefix": "del ",
          "library": "var_list.py",
          "varRefreshCmd": "print(var_dic_list())"
        },
        "r": {
          "delete_cmd_postfix": ") ",
          "delete_cmd_prefix": "rm(",
          "library": "var_list.r",
          "varRefreshCmd": "cat(var_dic_list()) "
        }
      },
      "types_to_exclude": [
        "module",
        "function",
        "builtin_function_or_method",
        "instance",
        "_Feature"
      ],
      "window_display": false
    },
    "colab": {
      "name": "02. The DataFrame and Series.ipynb",
      "provenance": []
    }
  },
  "nbformat": 4,
  "nbformat_minor": 0
}