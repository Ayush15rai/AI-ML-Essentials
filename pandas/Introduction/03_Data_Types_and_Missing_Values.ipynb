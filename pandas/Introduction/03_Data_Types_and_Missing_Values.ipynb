{
  "cells": [
    {
      "cell_type": "markdown",
      "metadata": {
        "id": "cmznFNIC-kP-"
      },
      "source": [
        "# Data Types and Missing Values\n",
        "\n",
        "Each column of data in a pandas DataFrame has a data type. This is a very similar concept to types in Python. Just like every Python object has a type, every column has a data type. pandas has a large number of data types available for each column. This chapter focuses only on the most common data types and provides a brief summary of each one. For extensive coverage of each and every data type, see chapter **Changing Data Types** in the **Essential Commands** part.\n",
        "\n",
        "### Most Common Data Types\n",
        "The following are the most common data types that appear frequently in DataFrames. \n",
        "\n",
        "* **boolean** - only two possible values, `True` and `False`\n",
        "* **integer** - whole numbers without decimals\n",
        "* **float** - numbers with decimals\n",
        "* **object** - typically strings, but may contain any object\n",
        "* **datetime** - a specific date and time with nanosecond precision\n",
        "\n",
        "### More on the object data type\n",
        "The object data type is the most confusing and deserves a longer discussion. Each value in an object column can be **any** Python object. This means object columns can contain integers, floats, or even complex types such as lists or dictionaries. Anything can be contained in object columns.  But, nearly all of the time, object data type columns contain **strings**. When you see that a column is an object data type, you should expect the values to be strings. pandas, unfortunately, does not provide its users with a specific data type for strings so if you do have strings in your columns, the data type will be object.\n",
        "\n",
        "### The importance of knowing the data type\n",
        "\n",
        "Knowing the data type of each column of your pandas DataFrame is very important. The main reason for this is that every value in each column will be of the same type. For instance, if you select a single value from a column that has an integer data type, then you are guaranteed that this value is also an integer.  Knowing the data type of a column is one of the most fundamental pieces of knowledge of your DataFrame.\n",
        "\n",
        "### A major exception with the object data type\n",
        "\n",
        "The object data type, is unfortunately, an exception to the information in the previous section. Although columns that have object data type are typically strings, there is no guarantee that each value will be a string. You could very well have an integer, list, or even another DataFrame as a value in the same object column.\n",
        "\n",
        "## Missing Value Representation\n",
        "\n",
        "### `NaN`,  `None`, and `NaT`\n",
        "pandas represents missing values differently based on the data type of the column.\n",
        "\n",
        "* `NaN` stands for not a number and is technically a float data type\n",
        "* `None` is the literal Python object `None` and will only be found in object columns\n",
        "* `NaT` stands for not a time and is used for missing values in datetime columns\n",
        "\n",
        "### Missing values for each data type\n",
        "\n",
        "* **boolean and integer** - No representation for missing values exist for boolean and integer columns. This is an unfortunate limitation, though recently pandas has created an entire new integer data type that does have `NaN`s available.\n",
        "\n",
        "* **floats** - Uses only `NaN` as the missing value.  \n",
        "\n",
        "* **object** - Columns of object data type can contain any Python object so all three of the missing value representation may appear in these columns but typically they will be either `NaN` or `None`.\n",
        "\n",
        "* **datetime** - Uses only `NaT` as the missing value.\n",
        "\n",
        "### Missing values in boolean and integer columns\n",
        "Knowing that a column is either a boolean or integer column guarantees that there are no missing values in that column as pandas does not allow for it. If, for instance, you would like to place a missing value in a boolean or integer column, then pandas will convert the entire column to float as it is a numerical data type with a missing value representation. When booleans are converted to floats, `False` becomes 0 and `True` becomes 1.\n",
        "\n",
        "### Integer NaN update for pandas 0.24\n",
        "\n",
        "With the release of pandas version 0.24 (February 2019), missing value representation was made possible for a special kind of integer data type called **Int64Dtype**. There is still no missing value representation for the default integer data type. \n",
        "\n",
        "## Finding the data types of each column\n",
        "The `dtypes` DataFrame attribute (NOT a method) returns the data type of each column. Let's get the data types of our `bikes` DataFrame. Note that the returned data is a Series with the column names now in the index and the data type as the values."
      ]
    },
    {
      "cell_type": "code",
      "execution_count": 1,
      "metadata": {
        "colab": {
          "base_uri": "https://localhost:8080/",
          "height": 312
        },
        "id": "n9hSFioe-kQI",
        "outputId": "9c4b6c63-6fad-4928-98ba-5b68bb3bfd6b"
      },
      "outputs": [
        {
          "output_type": "execute_result",
          "data": {
            "text/html": [
              "\n",
              "  <div id=\"df-40e1dd74-dfd8-4333-bf09-bb8ee50eab94\">\n",
              "    <div class=\"colab-df-container\">\n",
              "      <div>\n",
              "<style scoped>\n",
              "    .dataframe tbody tr th:only-of-type {\n",
              "        vertical-align: middle;\n",
              "    }\n",
              "\n",
              "    .dataframe tbody tr th {\n",
              "        vertical-align: top;\n",
              "    }\n",
              "\n",
              "    .dataframe thead th {\n",
              "        text-align: right;\n",
              "    }\n",
              "</style>\n",
              "<table border=\"1\" class=\"dataframe\">\n",
              "  <thead>\n",
              "    <tr style=\"text-align: right;\">\n",
              "      <th></th>\n",
              "      <th>trip_id</th>\n",
              "      <th>usertype</th>\n",
              "      <th>gender</th>\n",
              "      <th>starttime</th>\n",
              "      <th>stoptime</th>\n",
              "      <th>tripduration</th>\n",
              "      <th>from_station_name</th>\n",
              "      <th>latitude_start</th>\n",
              "      <th>longitude_start</th>\n",
              "      <th>dpcapacity_start</th>\n",
              "      <th>to_station_name</th>\n",
              "      <th>latitude_end</th>\n",
              "      <th>longitude_end</th>\n",
              "      <th>dpcapacity_end</th>\n",
              "      <th>temperature</th>\n",
              "      <th>visibility</th>\n",
              "      <th>wind_speed</th>\n",
              "      <th>precipitation</th>\n",
              "      <th>events</th>\n",
              "    </tr>\n",
              "  </thead>\n",
              "  <tbody>\n",
              "    <tr>\n",
              "      <th>0</th>\n",
              "      <td>7147</td>\n",
              "      <td>Subscriber</td>\n",
              "      <td>Male</td>\n",
              "      <td>2013-06-28 19:01:00</td>\n",
              "      <td>2013-06-28 19:17:00</td>\n",
              "      <td>993</td>\n",
              "      <td>Lake Shore Dr &amp; Monroe St</td>\n",
              "      <td>41.881050</td>\n",
              "      <td>-87.616970</td>\n",
              "      <td>11.0</td>\n",
              "      <td>Michigan Ave &amp; Oak St</td>\n",
              "      <td>41.90096</td>\n",
              "      <td>-87.623777</td>\n",
              "      <td>15.0</td>\n",
              "      <td>73.9</td>\n",
              "      <td>10.0</td>\n",
              "      <td>12.7</td>\n",
              "      <td>-9999.0</td>\n",
              "      <td>mostlycloudy</td>\n",
              "    </tr>\n",
              "    <tr>\n",
              "      <th>1</th>\n",
              "      <td>7524</td>\n",
              "      <td>Subscriber</td>\n",
              "      <td>Male</td>\n",
              "      <td>2013-06-28 22:53:00</td>\n",
              "      <td>2013-06-28 23:03:00</td>\n",
              "      <td>623</td>\n",
              "      <td>Clinton St &amp; Washington Blvd</td>\n",
              "      <td>41.883380</td>\n",
              "      <td>-87.641170</td>\n",
              "      <td>31.0</td>\n",
              "      <td>Wells St &amp; Walton St</td>\n",
              "      <td>41.89993</td>\n",
              "      <td>-87.634430</td>\n",
              "      <td>19.0</td>\n",
              "      <td>69.1</td>\n",
              "      <td>10.0</td>\n",
              "      <td>6.9</td>\n",
              "      <td>-9999.0</td>\n",
              "      <td>partlycloudy</td>\n",
              "    </tr>\n",
              "    <tr>\n",
              "      <th>2</th>\n",
              "      <td>10927</td>\n",
              "      <td>Subscriber</td>\n",
              "      <td>Male</td>\n",
              "      <td>2013-06-30 14:43:00</td>\n",
              "      <td>2013-06-30 15:01:00</td>\n",
              "      <td>1040</td>\n",
              "      <td>Sheffield Ave &amp; Kingsbury St</td>\n",
              "      <td>41.909592</td>\n",
              "      <td>-87.653497</td>\n",
              "      <td>15.0</td>\n",
              "      <td>Dearborn St &amp; Monroe St</td>\n",
              "      <td>41.88132</td>\n",
              "      <td>-87.629521</td>\n",
              "      <td>23.0</td>\n",
              "      <td>73.0</td>\n",
              "      <td>10.0</td>\n",
              "      <td>16.1</td>\n",
              "      <td>-9999.0</td>\n",
              "      <td>mostlycloudy</td>\n",
              "    </tr>\n",
              "  </tbody>\n",
              "</table>\n",
              "</div>\n",
              "      <button class=\"colab-df-convert\" onclick=\"convertToInteractive('df-40e1dd74-dfd8-4333-bf09-bb8ee50eab94')\"\n",
              "              title=\"Convert this dataframe to an interactive table.\"\n",
              "              style=\"display:none;\">\n",
              "        \n",
              "  <svg xmlns=\"http://www.w3.org/2000/svg\" height=\"24px\"viewBox=\"0 0 24 24\"\n",
              "       width=\"24px\">\n",
              "    <path d=\"M0 0h24v24H0V0z\" fill=\"none\"/>\n",
              "    <path d=\"M18.56 5.44l.94 2.06.94-2.06 2.06-.94-2.06-.94-.94-2.06-.94 2.06-2.06.94zm-11 1L8.5 8.5l.94-2.06 2.06-.94-2.06-.94L8.5 2.5l-.94 2.06-2.06.94zm10 10l.94 2.06.94-2.06 2.06-.94-2.06-.94-.94-2.06-.94 2.06-2.06.94z\"/><path d=\"M17.41 7.96l-1.37-1.37c-.4-.4-.92-.59-1.43-.59-.52 0-1.04.2-1.43.59L10.3 9.45l-7.72 7.72c-.78.78-.78 2.05 0 2.83L4 21.41c.39.39.9.59 1.41.59.51 0 1.02-.2 1.41-.59l7.78-7.78 2.81-2.81c.8-.78.8-2.07 0-2.86zM5.41 20L4 18.59l7.72-7.72 1.47 1.35L5.41 20z\"/>\n",
              "  </svg>\n",
              "      </button>\n",
              "      \n",
              "  <style>\n",
              "    .colab-df-container {\n",
              "      display:flex;\n",
              "      flex-wrap:wrap;\n",
              "      gap: 12px;\n",
              "    }\n",
              "\n",
              "    .colab-df-convert {\n",
              "      background-color: #E8F0FE;\n",
              "      border: none;\n",
              "      border-radius: 50%;\n",
              "      cursor: pointer;\n",
              "      display: none;\n",
              "      fill: #1967D2;\n",
              "      height: 32px;\n",
              "      padding: 0 0 0 0;\n",
              "      width: 32px;\n",
              "    }\n",
              "\n",
              "    .colab-df-convert:hover {\n",
              "      background-color: #E2EBFA;\n",
              "      box-shadow: 0px 1px 2px rgba(60, 64, 67, 0.3), 0px 1px 3px 1px rgba(60, 64, 67, 0.15);\n",
              "      fill: #174EA6;\n",
              "    }\n",
              "\n",
              "    [theme=dark] .colab-df-convert {\n",
              "      background-color: #3B4455;\n",
              "      fill: #D2E3FC;\n",
              "    }\n",
              "\n",
              "    [theme=dark] .colab-df-convert:hover {\n",
              "      background-color: #434B5C;\n",
              "      box-shadow: 0px 1px 3px 1px rgba(0, 0, 0, 0.15);\n",
              "      filter: drop-shadow(0px 1px 2px rgba(0, 0, 0, 0.3));\n",
              "      fill: #FFFFFF;\n",
              "    }\n",
              "  </style>\n",
              "\n",
              "      <script>\n",
              "        const buttonEl =\n",
              "          document.querySelector('#df-40e1dd74-dfd8-4333-bf09-bb8ee50eab94 button.colab-df-convert');\n",
              "        buttonEl.style.display =\n",
              "          google.colab.kernel.accessAllowed ? 'block' : 'none';\n",
              "\n",
              "        async function convertToInteractive(key) {\n",
              "          const element = document.querySelector('#df-40e1dd74-dfd8-4333-bf09-bb8ee50eab94');\n",
              "          const dataTable =\n",
              "            await google.colab.kernel.invokeFunction('convertToInteractive',\n",
              "                                                     [key], {});\n",
              "          if (!dataTable) return;\n",
              "\n",
              "          const docLinkHtml = 'Like what you see? Visit the ' +\n",
              "            '<a target=\"_blank\" href=https://colab.research.google.com/notebooks/data_table.ipynb>data table notebook</a>'\n",
              "            + ' to learn more about interactive tables.';\n",
              "          element.innerHTML = '';\n",
              "          dataTable['output_type'] = 'display_data';\n",
              "          await google.colab.output.renderOutput(dataTable, element);\n",
              "          const docLink = document.createElement('div');\n",
              "          docLink.innerHTML = docLinkHtml;\n",
              "          element.appendChild(docLink);\n",
              "        }\n",
              "      </script>\n",
              "    </div>\n",
              "  </div>\n",
              "  "
            ],
            "text/plain": [
              "   trip_id    usertype gender  ... wind_speed precipitation        events\n",
              "0     7147  Subscriber   Male  ...       12.7       -9999.0  mostlycloudy\n",
              "1     7524  Subscriber   Male  ...        6.9       -9999.0  partlycloudy\n",
              "2    10927  Subscriber   Male  ...       16.1       -9999.0  mostlycloudy\n",
              "\n",
              "[3 rows x 19 columns]"
            ]
          },
          "metadata": {},
          "execution_count": 1
        }
      ],
      "source": [
        "import pandas as pd\n",
        "bikes = pd.read_csv('bikes.csv')\n",
        "bikes.head(3)"
      ]
    },
    {
      "cell_type": "code",
      "execution_count": 2,
      "metadata": {
        "colab": {
          "base_uri": "https://localhost:8080/"
        },
        "id": "nF2y7m59-kQN",
        "outputId": "27410d02-5f9d-40c7-d94b-a8e6c358ede2"
      },
      "outputs": [
        {
          "output_type": "execute_result",
          "data": {
            "text/plain": [
              "trip_id                int64\n",
              "usertype              object\n",
              "gender                object\n",
              "starttime             object\n",
              "stoptime              object\n",
              "tripduration           int64\n",
              "from_station_name     object\n",
              "latitude_start       float64\n",
              "longitude_start      float64\n",
              "dpcapacity_start     float64\n",
              "to_station_name       object\n",
              "latitude_end         float64\n",
              "longitude_end        float64\n",
              "dpcapacity_end       float64\n",
              "temperature          float64\n",
              "visibility           float64\n",
              "wind_speed           float64\n",
              "precipitation        float64\n",
              "events                object\n",
              "dtype: object"
            ]
          },
          "metadata": {},
          "execution_count": 2
        }
      ],
      "source": [
        "bikes.dtypes"
      ]
    },
    {
      "cell_type": "markdown",
      "metadata": {
        "id": "Ee_1jrfw-kQN"
      },
      "source": [
        "### Why are `starttime` and `stoptime` object data types?\n",
        "If you look at the output of the `bikes` DataFrame, it's apparent that both the `starttime` and `stoptime` columns are datetimes, but the output from `dtypes` states that they are objects. The `read_csv` function requires that you provide a list of columns that are datetimes to the `parse_dates` parameter, otherwise it will read them in as strings. Let's reread the data using the `parse_dates` parameter."
      ]
    },
    {
      "cell_type": "code",
      "execution_count": 3,
      "metadata": {
        "colab": {
          "base_uri": "https://localhost:8080/"
        },
        "id": "9uqXz6D2-kQO",
        "outputId": "ff2957a5-dc5b-4e9d-c259-7c0ba912e5ea"
      },
      "outputs": [
        {
          "output_type": "execute_result",
          "data": {
            "text/plain": [
              "trip_id               int64\n",
              "usertype             object\n",
              "gender               object\n",
              "starttime    datetime64[ns]\n",
              "stoptime     datetime64[ns]\n",
              "dtype: object"
            ]
          },
          "metadata": {},
          "execution_count": 3
        }
      ],
      "source": [
        "bikes = pd.read_csv('bikes.csv', parse_dates=['starttime', 'stoptime'])\n",
        "bikes.dtypes.head()"
      ]
    },
    {
      "cell_type": "markdown",
      "metadata": {
        "id": "IobAUpNj-kQO"
      },
      "source": [
        "### What are all those 64's at the end of the data types?\n",
        "Booleans, integers, floats, and datetimes all use a particular amount of memory for each of their values. The memory is measured in **bits**. The number of bits used for each value is the number appended to the end of the data type name. For instance, integers can be either 8, 16, 32, or 64 bits while floats can be 16, 32, 64, or 128. A 128-bit float column will show up as `float128`. \n",
        "\n",
        "Technically a `float128` is a different data type than a `float64` but generally you will not have to worry about such a distinction as the operations between different float columns will be the same. \n",
        "\n",
        "**Booleans** are always stored as 8-bits. There is no set bit size for values in an **object** column as each value can be of any size.\n",
        "\n",
        "## Getting more metadata\n",
        "Metadata can be defined as data on the data. The data type of each column is an example of **metadata**. The number of rows and columns is another piece of metadata. We find this with the `shape` attribute, which returns a tuple of integers."
      ]
    },
    {
      "cell_type": "code",
      "execution_count": 4,
      "metadata": {
        "colab": {
          "base_uri": "https://localhost:8080/"
        },
        "id": "uZxg1vvt-kQP",
        "outputId": "36c6ad0b-1b2d-4284-afb2-5fb73a49afe4"
      },
      "outputs": [
        {
          "output_type": "execute_result",
          "data": {
            "text/plain": [
              "(50089, 19)"
            ]
          },
          "metadata": {},
          "execution_count": 4
        }
      ],
      "source": [
        "bikes.shape"
      ]
    },
    {
      "cell_type": "markdown",
      "metadata": {
        "id": "dQKwofWO-kQQ"
      },
      "source": [
        "### Total number of values with the `size` attribute\n",
        "The `size` attribute returns the total number of values (the number of columns multiplied by the number of rows) in the DataFrame."
      ]
    },
    {
      "cell_type": "code",
      "execution_count": 5,
      "metadata": {
        "colab": {
          "base_uri": "https://localhost:8080/"
        },
        "id": "jG8uGGk3-kQR",
        "outputId": "41acc4de-32c5-4e68-b017-3e6c0ad1f930"
      },
      "outputs": [
        {
          "output_type": "execute_result",
          "data": {
            "text/plain": [
              "951691"
            ]
          },
          "metadata": {},
          "execution_count": 5
        }
      ],
      "source": [
        "bikes.size"
      ]
    },
    {
      "cell_type": "markdown",
      "metadata": {
        "id": "Cg5ujNMl-kQR"
      },
      "source": [
        "### Get data types plus more with the `info` method\n",
        "The `info` DataFrame method provides output similar to `dtypes`, but also shows the number of non-missing values in each column along with more info such as:  \n",
        "\n",
        "* Type of object (always a DataFrame)\n",
        "* The type of index and number of rows\n",
        "* The number of columns\n",
        "* The data types of each column and the number of non-missing (a.k.a non-null)\n",
        "* The frequency count of all data types\n",
        "* The total memory usage"
      ]
    },
    {
      "cell_type": "code",
      "execution_count": 6,
      "metadata": {
        "colab": {
          "base_uri": "https://localhost:8080/"
        },
        "id": "VdVxYnMh-kQS",
        "outputId": "6df11225-99c2-44ea-ed7a-2823bb9b00d6"
      },
      "outputs": [
        {
          "output_type": "stream",
          "name": "stdout",
          "text": [
            "<class 'pandas.core.frame.DataFrame'>\n",
            "RangeIndex: 50089 entries, 0 to 50088\n",
            "Data columns (total 19 columns):\n",
            " #   Column             Non-Null Count  Dtype         \n",
            "---  ------             --------------  -----         \n",
            " 0   trip_id            50089 non-null  int64         \n",
            " 1   usertype           50089 non-null  object        \n",
            " 2   gender             50089 non-null  object        \n",
            " 3   starttime          50089 non-null  datetime64[ns]\n",
            " 4   stoptime           50089 non-null  datetime64[ns]\n",
            " 5   tripduration       50089 non-null  int64         \n",
            " 6   from_station_name  50089 non-null  object        \n",
            " 7   latitude_start     50083 non-null  float64       \n",
            " 8   longitude_start    50083 non-null  float64       \n",
            " 9   dpcapacity_start   50083 non-null  float64       \n",
            " 10  to_station_name    50089 non-null  object        \n",
            " 11  latitude_end       50077 non-null  float64       \n",
            " 12  longitude_end      50077 non-null  float64       \n",
            " 13  dpcapacity_end     50077 non-null  float64       \n",
            " 14  temperature        50089 non-null  float64       \n",
            " 15  visibility         50089 non-null  float64       \n",
            " 16  wind_speed         50089 non-null  float64       \n",
            " 17  precipitation      50089 non-null  float64       \n",
            " 18  events             50089 non-null  object        \n",
            "dtypes: datetime64[ns](2), float64(10), int64(2), object(5)\n",
            "memory usage: 7.3+ MB\n"
          ]
        }
      ],
      "source": [
        "bikes.info()"
      ]
    },
    {
      "cell_type": "markdown",
      "metadata": {
        "id": "fjuGmv8L-kQS"
      },
      "source": [
        "## More data types\n",
        "There are several more data types available in pandas. An extensive and formal discussion on all data types is available in the chapter **Changing Data Types** from the **Essential Commands** part."
      ]
    },
    {
      "cell_type": "markdown",
      "metadata": {
        "id": "wmBiXg6e-kQT"
      },
      "source": [
        "## Exercises\n",
        "Use the `bikes` DataFrame for the following:"
      ]
    },
    {
      "cell_type": "markdown",
      "metadata": {
        "id": "AGjiQ75d-kQT"
      },
      "source": [
        "### Exercise 1\n",
        "<span  style=\"color:green; font-size:16px\">What type of object is returned from the `dtypes` attribute?</span>"
      ]
    },
    {
      "cell_type": "code",
      "execution_count": 7,
      "metadata": {
        "colab": {
          "base_uri": "https://localhost:8080/"
        },
        "id": "NN1KWaRn-kQU",
        "outputId": "c6a99bfb-92e9-4ea9-cc9f-0df44c42bb49"
      },
      "outputs": [
        {
          "output_type": "execute_result",
          "data": {
            "text/plain": [
              "pandas.core.series.Series"
            ]
          },
          "metadata": {},
          "execution_count": 7
        }
      ],
      "source": [
        "type(bikes.dtypes)"
      ]
    },
    {
      "cell_type": "markdown",
      "metadata": {
        "id": "nYrhklqI-kQU"
      },
      "source": [
        "### Exercise 2\n",
        "<span  style=\"color:green; font-size:16px\">What type of object is returned from the `shape` attribute?</span>"
      ]
    },
    {
      "cell_type": "code",
      "execution_count": 8,
      "metadata": {
        "colab": {
          "base_uri": "https://localhost:8080/"
        },
        "id": "Viisg5up-kQU",
        "outputId": "0308a785-98c7-4154-f67f-5a2ddf67e322"
      },
      "outputs": [
        {
          "output_type": "execute_result",
          "data": {
            "text/plain": [
              "tuple"
            ]
          },
          "metadata": {},
          "execution_count": 8
        }
      ],
      "source": [
        "type(bikes.shape)"
      ]
    },
    {
      "cell_type": "markdown",
      "metadata": {
        "id": "OzeyF-wF-kQV"
      },
      "source": [
        "### Exercise 3\n",
        "<span style=\"color:green; font-size:16px\">What type of object is returned from the `info` method?</span>"
      ]
    },
    {
      "cell_type": "code",
      "execution_count": 9,
      "metadata": {
        "colab": {
          "base_uri": "https://localhost:8080/"
        },
        "id": "k6iHQ_Va-kQV",
        "outputId": "5fafa290-7ef0-4ce6-cfeb-a16c6576b803"
      },
      "outputs": [
        {
          "output_type": "stream",
          "name": "stdout",
          "text": [
            "<class 'pandas.core.frame.DataFrame'>\n",
            "RangeIndex: 50089 entries, 0 to 50088\n",
            "Data columns (total 19 columns):\n",
            " #   Column             Non-Null Count  Dtype         \n",
            "---  ------             --------------  -----         \n",
            " 0   trip_id            50089 non-null  int64         \n",
            " 1   usertype           50089 non-null  object        \n",
            " 2   gender             50089 non-null  object        \n",
            " 3   starttime          50089 non-null  datetime64[ns]\n",
            " 4   stoptime           50089 non-null  datetime64[ns]\n",
            " 5   tripduration       50089 non-null  int64         \n",
            " 6   from_station_name  50089 non-null  object        \n",
            " 7   latitude_start     50083 non-null  float64       \n",
            " 8   longitude_start    50083 non-null  float64       \n",
            " 9   dpcapacity_start   50083 non-null  float64       \n",
            " 10  to_station_name    50089 non-null  object        \n",
            " 11  latitude_end       50077 non-null  float64       \n",
            " 12  longitude_end      50077 non-null  float64       \n",
            " 13  dpcapacity_end     50077 non-null  float64       \n",
            " 14  temperature        50089 non-null  float64       \n",
            " 15  visibility         50089 non-null  float64       \n",
            " 16  wind_speed         50089 non-null  float64       \n",
            " 17  precipitation      50089 non-null  float64       \n",
            " 18  events             50089 non-null  object        \n",
            "dtypes: datetime64[ns](2), float64(10), int64(2), object(5)\n",
            "memory usage: 7.3+ MB\n"
          ]
        },
        {
          "output_type": "execute_result",
          "data": {
            "text/plain": [
              "NoneType"
            ]
          },
          "metadata": {},
          "execution_count": 9
        }
      ],
      "source": [
        "type(bikes.info())"
      ]
    },
    {
      "cell_type": "markdown",
      "metadata": {
        "id": "y3qeYiRn-kQV"
      },
      "source": [
        "### Exercise 4\n",
        "<span  style=\"color:green; font-size:16px\">The memory usage from the `info` method isn't correct when you have objects in your DataFrame. Read the docstrings from it and get the true memory usage.</span>"
      ]
    },
    {
      "cell_type": "code",
      "execution_count": 10,
      "metadata": {
        "colab": {
          "base_uri": "https://localhost:8080/"
        },
        "id": "_7EefbuY-kQW",
        "outputId": "e66372ae-cb49-4e9a-83af-972df8cb3ba3"
      },
      "outputs": [
        {
          "output_type": "stream",
          "name": "stdout",
          "text": [
            "<class 'pandas.core.frame.DataFrame'>\n",
            "RangeIndex: 50089 entries, 0 to 50088\n",
            "Data columns (total 19 columns):\n",
            " #   Column             Non-Null Count  Dtype         \n",
            "---  ------             --------------  -----         \n",
            " 0   trip_id            50089 non-null  int64         \n",
            " 1   usertype           50089 non-null  object        \n",
            " 2   gender             50089 non-null  object        \n",
            " 3   starttime          50089 non-null  datetime64[ns]\n",
            " 4   stoptime           50089 non-null  datetime64[ns]\n",
            " 5   tripduration       50089 non-null  int64         \n",
            " 6   from_station_name  50089 non-null  object        \n",
            " 7   latitude_start     50083 non-null  float64       \n",
            " 8   longitude_start    50083 non-null  float64       \n",
            " 9   dpcapacity_start   50083 non-null  float64       \n",
            " 10  to_station_name    50089 non-null  object        \n",
            " 11  latitude_end       50077 non-null  float64       \n",
            " 12  longitude_end      50077 non-null  float64       \n",
            " 13  dpcapacity_end     50077 non-null  float64       \n",
            " 14  temperature        50089 non-null  float64       \n",
            " 15  visibility         50089 non-null  float64       \n",
            " 16  wind_speed         50089 non-null  float64       \n",
            " 17  precipitation      50089 non-null  float64       \n",
            " 18  events             50089 non-null  object        \n",
            "dtypes: datetime64[ns](2), float64(10), int64(2), object(5)\n",
            "memory usage: 22.4 MB\n"
          ]
        }
      ],
      "source": [
        "bikes.info(memory_usage='deep')"
      ]
    }
  ],
  "metadata": {
    "kernelspec": {
      "display_name": "Python 3",
      "language": "python",
      "name": "python3"
    },
    "language_info": {
      "codemirror_mode": {
        "name": "ipython",
        "version": 3
      },
      "file_extension": ".py",
      "mimetype": "text/x-python",
      "name": "python",
      "nbconvert_exporter": "python",
      "pygments_lexer": "ipython3",
      "version": "3.7.3"
    },
    "colab": {
      "name": "03. Data Types and Missing Values.ipynb",
      "provenance": []
    }
  },
  "nbformat": 4,
  "nbformat_minor": 0
}