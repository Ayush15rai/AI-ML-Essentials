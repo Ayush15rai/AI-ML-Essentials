{
  "nbformat": 4,
  "nbformat_minor": 0,
  "metadata": {
    "colab": {
      "name": "Distance Metrics.ipynb",
      "provenance": []
    },
    "kernelspec": {
      "name": "python3",
      "display_name": "Python 3"
    },
    "language_info": {
      "name": "python"
    }
  },
  "cells": [
    {
      "cell_type": "code",
      "execution_count": 1,
      "metadata": {
        "id": "UioKCRplimO2"
      },
      "outputs": [],
      "source": [
        "import numpy as np\n",
        "from math import sqrt"
      ]
    },
    {
      "cell_type": "code",
      "source": [
        "# Euclidean distance\n",
        "def euclidean(x, y):\n",
        "    distance = 0\n",
        "    for a, b in zip(x, y):\n",
        "        distance += (sum([(pow((a-b),2))]))\n",
        "    return sqrt(distance)\n",
        "print(\"Euclidean Distance:\",euclidean([1,3,4,1],[3,2,1,1]))"
      ],
      "metadata": {
        "colab": {
          "base_uri": "https://localhost:8080/"
        },
        "id": "rHbn3Ksciw-V",
        "outputId": "58bbf7da-ae85-4a0e-89a9-6946d306bc13"
      },
      "execution_count": 2,
      "outputs": [
        {
          "output_type": "stream",
          "name": "stdout",
          "text": [
            "Euclidean Distance: 3.7416573867739413\n"
          ]
        }
      ]
    },
    {
      "cell_type": "code",
      "source": [
        "# Manhattan distance\n",
        "def manhattan(x, y):\n",
        "    distance=0\n",
        "    for a,b in zip(x,y):\n",
        "        distance += sum([abs(a-b)])\n",
        "    return distance\n",
        "print(\"Manhattan Distance:\",manhattan([1,3,4,1],[3,2,1,1]))"
      ],
      "metadata": {
        "colab": {
          "base_uri": "https://localhost:8080/"
        },
        "id": "MsXqveUDiz2a",
        "outputId": "8faaed68-2088-4c18-f2bf-081b66c6de59"
      },
      "execution_count": 3,
      "outputs": [
        {
          "output_type": "stream",
          "name": "stdout",
          "text": [
            "Manhattan Distance: 6\n"
          ]
        }
      ]
    },
    {
      "cell_type": "code",
      "source": [
        "#chebyshev distance\n",
        "def chebyshev(x,y):\n",
        "    distance = []\n",
        "    for a,b in zip(x,y):\n",
        "        distance.append(abs(a-b))\n",
        "    return max(distance)\n",
        "print(\"Chebyshev Distance:\",chebyshev([1,3,4,1],[3,2,1,1]))"
      ],
      "metadata": {
        "colab": {
          "base_uri": "https://localhost:8080/"
        },
        "id": "hRRzvGtsi3Cq",
        "outputId": "61467c63-dae7-4885-a14b-a5b005010151"
      },
      "execution_count": 4,
      "outputs": [
        {
          "output_type": "stream",
          "name": "stdout",
          "text": [
            "Chebyshev Distance: 3\n"
          ]
        }
      ]
    },
    {
      "cell_type": "code",
      "source": [
        "#hamming distance\n",
        "def hamming(x,y):\n",
        "    distance = 0\n",
        "    for a,b in zip(x,y):\n",
        "        if a != b:\n",
        "            distance += 1\n",
        "    return distance\n",
        "print(\"Hamming Distance:\",hamming(\"hello world\",\"hallo warld\"))"
      ],
      "metadata": {
        "colab": {
          "base_uri": "https://localhost:8080/"
        },
        "id": "_SDReUcBi6An",
        "outputId": "88a9ff9c-965c-42c7-90a5-9483b81f006a"
      },
      "execution_count": 5,
      "outputs": [
        {
          "output_type": "stream",
          "name": "stdout",
          "text": [
            "Hamming Distance: 2\n"
          ]
        }
      ]
    },
    {
      "cell_type": "code",
      "source": [
        "#cosine_similarity\n",
        "def cosine_similarity(x,y):\n",
        "    numerator = 0\n",
        "    sum_x = 0\n",
        "    sum_y = 0\n",
        "    for a,b in zip(x,y):\n",
        "        numerator += sum([a * b])\n",
        "        sum_x += sum([a**2])\n",
        "        sum_y += sum([b**2])\n",
        "    denominator = round(sqrt(sum_x) * sqrt(sum_y))\n",
        "    return numerator / denominator\n",
        "print(\"Cosine Similarity:\", cosine_similarity([1,3,4,1],[3,2,1,1]))"
      ],
      "metadata": {
        "colab": {
          "base_uri": "https://localhost:8080/"
        },
        "id": "IrXxayO-i853",
        "outputId": "9e14e600-1d12-40e9-f7dc-599d4e111c73"
      },
      "execution_count": 6,
      "outputs": [
        {
          "output_type": "stream",
          "name": "stdout",
          "text": [
            "Cosine Similarity: 0.7\n"
          ]
        }
      ]
    },
    {
      "cell_type": "code",
      "source": [
        "#jaccard\n",
        "def jaccard_similarity(x,y):\n",
        "    intersection = len(set(x).intersection(set(y)))\n",
        "    union = len(set(x).union(set(y)))\n",
        "    return (intersection / union)\n",
        "print(\"Jaccard Similarity:\",jaccard_similarity([0,1,2,5,6], [0,2,3,4,5,7,9]))\n",
        "print(\"Jaccard Distance:\", 1-jaccard_similarity([0,1,2,5,6],[0,2,3,4,5,7,9]))"
      ],
      "metadata": {
        "colab": {
          "base_uri": "https://localhost:8080/"
        },
        "id": "xi8R7tnmjBCj",
        "outputId": "0f555bd0-38fc-45e6-cfd0-fe19572f0388"
      },
      "execution_count": 7,
      "outputs": [
        {
          "output_type": "stream",
          "name": "stdout",
          "text": [
            "Jaccard Similarity: 0.3333333333333333\n",
            "Jaccard Distance: 0.6666666666666667\n"
          ]
        }
      ]
    },
  ]
}
